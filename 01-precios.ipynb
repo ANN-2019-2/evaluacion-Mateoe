{
  "nbformat": 4,
  "nbformat_minor": 0,
  "metadata": {
    "colab": {
      "name": "01-precios.ipynb",
      "provenance": [],
      "collapsed_sections": []
    },
    "kernelspec": {
      "display_name": "Python 3",
      "language": "python",
      "name": "python3"
    },
    "language_info": {
      "codemirror_mode": {
        "name": "ipython",
        "version": 3
      },
      "file_extension": ".py",
      "mimetype": "text/x-python",
      "name": "python",
      "nbconvert_exporter": "python",
      "pygments_lexer": "ipython3",
      "version": "3.6.7"
    }
  },
  "cells": [
    {
      "cell_type": "markdown",
      "metadata": {
        "id": "ZpBYGHCPW5o4",
        "colab_type": "text"
      },
      "source": [
        "# Pronóstico adaptativo"
      ]
    },
    {
      "cell_type": "markdown",
      "metadata": {
        "id": "kv06lh5iWomq",
        "colab_type": "text"
      },
      "source": [
        "## Descripción del problema real"
      ]
    },
    {
      "cell_type": "markdown",
      "metadata": {
        "id": "KExzB7q3Womv",
        "colab_type": "text"
      },
      "source": [
        "Los pronósticos de los precios de la electricidad en mercados liberalizados son un insumo fundamental para la toma de decisiones dentro de las organizaciones. Fundamentalmente, los pronosticos de corto plazo son utilizados en decisiones de carácter operativo. En el caso abordado, es necesario contar con los pronósticos para definir la politica de operación de una empresa del sector eléctrico."
      ]
    },
    {
      "cell_type": "markdown",
      "metadata": {
        "id": "onT5FaT_Womy",
        "colab_type": "text"
      },
      "source": [
        "## Descripción del problema en términos de los datos"
      ]
    },
    {
      "cell_type": "markdown",
      "metadata": {
        "id": "cEMzE4IpWom1",
        "colab_type": "text"
      },
      "source": [
        "La carpeta `datos/precios/` contiene los precios historicos horarios de la electricidad en la Bolsa de Energía del mercado eléctrico colombiano, publicados por el operador del mercado. Se desean obtener pronósticos para el precio promedio diario para los próximos siete (7) días a la fecha actual."
      ]
    },
    {
      "cell_type": "markdown",
      "metadata": {
        "id": "sFcKB4c0Wom3",
        "colab_type": "text"
      },
      "source": [
        "## Aproximaciones posibles"
      ]
    },
    {
      "cell_type": "markdown",
      "metadata": {
        "id": "3SjHnd3fWom6",
        "colab_type": "text"
      },
      "source": [
        "En este caso, se desea evaluar la capacidad de pronóstico de un ADALINE con aprendizaje en línea."
      ]
    },
    {
      "cell_type": "markdown",
      "metadata": {
        "id": "z56nCAOeWom9",
        "colab_type": "text"
      },
      "source": [
        "## Requerimientos"
      ]
    },
    {
      "cell_type": "markdown",
      "metadata": {
        "id": "3Fwk1HqaWonA",
        "colab_type": "text"
      },
      "source": [
        "Usted debe:\n",
        "\n",
        "* Procesar los datos históricos para conformar el conjunto de datos. Los archivos de Excel no pueden ser modificados y actualizados directamente por el operador del sistema. Su código debe leer los archivos y crear la serie de precios promedio diarios de la electricidad. **Listo**\n",
        "\n",
        "\n",
        "* Determinar si el modelo debe pronosticar los precios promedios sin ninguna transformación, o si la inclusión de una transformación (logaritmo natural, raíz cúbica, raíz cuadrada, etc) resulta en un incremento de la precisión del pronóstico. **Listo**\n",
        "\n",
        "\n",
        "* Generar el pronóstico para los precios de los próximos siete días. **Listo**\n",
        "\n",
        "\n",
        "* Preparar el código para que el modelo sea entrenado usando el gradiente y el momentum. **Listo**\n",
        "\n",
        "\n",
        "* Determinar cuál es el número óptimo de retardos (observaciones) que el modelo debe considerar hacia atrás para producir el pronóstico.**Listo**\n",
        "\n",
        "\n",
        "* Determinar los valores óptimos de la tasa de aprendizaje y el momentum. **Listo**\n"
      ]
    },
    {
      "cell_type": "markdown",
      "metadata": {
        "id": "33hL7ro8bbr3",
        "colab_type": "text"
      },
      "source": [
        "##1. Procesamiento de datos"
      ]
    },
    {
      "cell_type": "markdown",
      "metadata": {
        "id": "9xGcOrZ1cif9",
        "colab_type": "text"
      },
      "source": [
        "####Cargamos las librerias"
      ]
    },
    {
      "cell_type": "code",
      "metadata": {
        "id": "JB88QvsvbTQV",
        "colab_type": "code",
        "colab": {}
      },
      "source": [
        "import pandas as pd\n",
        "import glob\n",
        "import matplotlib.pyplot as plt\n",
        "%matplotlib inline\n",
        "import numpy as np\n",
        "from random import seed\n",
        "seed(1)\n",
        "import math\n",
        "from sklearn.preprocessing import MinMaxScaler\n",
        "import tensorflow as tf"
      ],
      "execution_count": 0,
      "outputs": []
    },
    {
      "cell_type": "markdown",
      "metadata": {
        "id": "UN9ZqAFhct3v",
        "colab_type": "text"
      },
      "source": [
        "####Construimos el conjunto de datos a partir de los datos historicos"
      ]
    },
    {
      "cell_type": "code",
      "metadata": {
        "id": "VwFZs6zMm2L6",
        "colab_type": "code",
        "colab": {}
      },
      "source": [
        "#Dirección del conjunto de datos\n",
        "directorio = \"./Precios/\"\n",
        "\n",
        "#Nombre común para todos los archivos\n",
        "nombre = \"Precio_Bolsa_Nacional_($kwh)_\"\n",
        "\n",
        "#Conteo de la canitidad de archivos\n",
        "cantidadXls = len(glob.glob(directorio+(\"*.xls\")))\n",
        "cantidadXlsx = len(glob.glob(directorio+\"*.xlsx\"))\n",
        "cantidadArchivos = cantidadXlsx+cantidadXls\n",
        "\n",
        "#Creación del conjunto de datos\n",
        "conjuntoDatos = pd.DataFrame()\n",
        "\n",
        "for año in range(1995,1995+cantidadArchivos):\n",
        "  #Establecemos la extensión para cada archivo\n",
        "  if año < 2016:\n",
        "    extension = \".xlsx\"\n",
        "  else:\n",
        "    extension = \".xls\"\n",
        "\n",
        "  #Creamos la ruta completa para cada archivo\n",
        "  archivo = directorio+nombre+str(año)+extension\n",
        "  \n",
        "  #Eliminamos los encabezados para cada archivo\n",
        "  if año <= 1999:\n",
        "    conjuntoParcial = pd.read_excel(archivo, skiprows = 3)\n",
        "  elif año > 1999:\n",
        "    conjuntoParcial = pd.read_excel(archivo, skiprows = 2)\n",
        "  \n",
        "  #Añadimos el archivo al conjunto de datos\n",
        "  conjuntoDatos=pd.concat([conjuntoDatos, conjuntoParcial],axis=0,sort=False)\n",
        "  \n",
        "\n",
        "#Creamos el encabezado para el conjunto de datos\n",
        "conjuntoDatos.columns = ['Fecha', \"0\", \"1\", \"2\", \"3\", \"4\", \"5\", \"6\", \"7\", \"8\", \"9\", \"10\", \"11\", \"12\",\"13\", \"14\",\n",
        "                         \"15\", \"16\", \"17\", \"18\", \"19\", \"20\", \"21\", \"22\", \"23\",\"Version\",\"NaN\",\"Unnamed\"]\n",
        "\n",
        "#Eliminamos los datos innecesarios\n",
        "conjuntoDatos.drop(['Version', 'NaN','Unnamed'], axis = 'columns', inplace=True )"
      ],
      "execution_count": 0,
      "outputs": []
    },
    {
      "cell_type": "code",
      "metadata": {
        "id": "iWx-mpuwbauD",
        "colab_type": "code",
        "outputId": "f1ded5da-d201-4c21-d295-416dd1924a72",
        "colab": {
          "base_uri": "https://localhost:8080/",
          "height": 309
        }
      },
      "source": [
        "#Mostramos los cinco primeros datos para corroborar que la información esté bien organizada\n",
        "conjuntoDatos.head()"
      ],
      "execution_count": 121,
      "outputs": [
        {
          "output_type": "execute_result",
          "data": {
            "text/html": [
              "<div>\n",
              "<style scoped>\n",
              "    .dataframe tbody tr th:only-of-type {\n",
              "        vertical-align: middle;\n",
              "    }\n",
              "\n",
              "    .dataframe tbody tr th {\n",
              "        vertical-align: top;\n",
              "    }\n",
              "\n",
              "    .dataframe thead th {\n",
              "        text-align: right;\n",
              "    }\n",
              "</style>\n",
              "<table border=\"1\" class=\"dataframe\">\n",
              "  <thead>\n",
              "    <tr style=\"text-align: right;\">\n",
              "      <th></th>\n",
              "      <th>Fecha</th>\n",
              "      <th>0</th>\n",
              "      <th>1</th>\n",
              "      <th>2</th>\n",
              "      <th>3</th>\n",
              "      <th>4</th>\n",
              "      <th>5</th>\n",
              "      <th>6</th>\n",
              "      <th>7</th>\n",
              "      <th>8</th>\n",
              "      <th>9</th>\n",
              "      <th>10</th>\n",
              "      <th>11</th>\n",
              "      <th>12</th>\n",
              "      <th>13</th>\n",
              "      <th>14</th>\n",
              "      <th>15</th>\n",
              "      <th>16</th>\n",
              "      <th>17</th>\n",
              "      <th>18</th>\n",
              "      <th>19</th>\n",
              "      <th>20</th>\n",
              "      <th>21</th>\n",
              "      <th>22</th>\n",
              "      <th>23</th>\n",
              "    </tr>\n",
              "  </thead>\n",
              "  <tbody>\n",
              "    <tr>\n",
              "      <th>0</th>\n",
              "      <td>1995-07-20</td>\n",
              "      <td>NaN</td>\n",
              "      <td>1.073</td>\n",
              "      <td>1.073</td>\n",
              "      <td>1.073</td>\n",
              "      <td>1.073</td>\n",
              "      <td>1.073</td>\n",
              "      <td>1.073</td>\n",
              "      <td>1.073</td>\n",
              "      <td>1.074</td>\n",
              "      <td>1.074</td>\n",
              "      <td>2.827</td>\n",
              "      <td>2.827</td>\n",
              "      <td>2.827</td>\n",
              "      <td>1.074</td>\n",
              "      <td>1.073</td>\n",
              "      <td>1.073</td>\n",
              "      <td>1.073</td>\n",
              "      <td>1.073</td>\n",
              "      <td>1.074</td>\n",
              "      <td>1.897</td>\n",
              "      <td>1.897</td>\n",
              "      <td>1.897</td>\n",
              "      <td>1.073</td>\n",
              "      <td>1.073</td>\n",
              "    </tr>\n",
              "    <tr>\n",
              "      <th>1</th>\n",
              "      <td>1995-07-21</td>\n",
              "      <td>1.073</td>\n",
              "      <td>1.000</td>\n",
              "      <td>1.000</td>\n",
              "      <td>1.000</td>\n",
              "      <td>1.000</td>\n",
              "      <td>1.000</td>\n",
              "      <td>5.000</td>\n",
              "      <td>6.000</td>\n",
              "      <td>6.000</td>\n",
              "      <td>6.000</td>\n",
              "      <td>6.000</td>\n",
              "      <td>9.256</td>\n",
              "      <td>9.256</td>\n",
              "      <td>5.000</td>\n",
              "      <td>5.000</td>\n",
              "      <td>1.000</td>\n",
              "      <td>1.000</td>\n",
              "      <td>5.000</td>\n",
              "      <td>12.000</td>\n",
              "      <td>16.670</td>\n",
              "      <td>11.929</td>\n",
              "      <td>5.000</td>\n",
              "      <td>1.000</td>\n",
              "      <td>1.000</td>\n",
              "    </tr>\n",
              "    <tr>\n",
              "      <th>2</th>\n",
              "      <td>1995-07-22</td>\n",
              "      <td>1.073</td>\n",
              "      <td>1.073</td>\n",
              "      <td>1.000</td>\n",
              "      <td>1.000</td>\n",
              "      <td>1.000</td>\n",
              "      <td>1.073</td>\n",
              "      <td>1.303</td>\n",
              "      <td>1.303</td>\n",
              "      <td>1.303</td>\n",
              "      <td>1.303</td>\n",
              "      <td>1.303</td>\n",
              "      <td>1.303</td>\n",
              "      <td>1.303</td>\n",
              "      <td>1.303</td>\n",
              "      <td>1.073</td>\n",
              "      <td>1.000</td>\n",
              "      <td>1.000</td>\n",
              "      <td>1.000</td>\n",
              "      <td>1.303</td>\n",
              "      <td>2.500</td>\n",
              "      <td>2.500</td>\n",
              "      <td>1.303</td>\n",
              "      <td>1.073</td>\n",
              "      <td>1.073</td>\n",
              "    </tr>\n",
              "    <tr>\n",
              "      <th>3</th>\n",
              "      <td>1995-07-23</td>\n",
              "      <td>1.073</td>\n",
              "      <td>1.000</td>\n",
              "      <td>1.000</td>\n",
              "      <td>1.000</td>\n",
              "      <td>1.000</td>\n",
              "      <td>1.000</td>\n",
              "      <td>0.100</td>\n",
              "      <td>1.000</td>\n",
              "      <td>1.000</td>\n",
              "      <td>1.000</td>\n",
              "      <td>1.000</td>\n",
              "      <td>1.000</td>\n",
              "      <td>1.238</td>\n",
              "      <td>1.238</td>\n",
              "      <td>1.000</td>\n",
              "      <td>0.100</td>\n",
              "      <td>0.100</td>\n",
              "      <td>1.000</td>\n",
              "      <td>1.238</td>\n",
              "      <td>1.238</td>\n",
              "      <td>1.238</td>\n",
              "      <td>1.238</td>\n",
              "      <td>1.073</td>\n",
              "      <td>1.000</td>\n",
              "    </tr>\n",
              "    <tr>\n",
              "      <th>4</th>\n",
              "      <td>1995-07-24</td>\n",
              "      <td>1.000</td>\n",
              "      <td>1.000</td>\n",
              "      <td>0.990</td>\n",
              "      <td>1.000</td>\n",
              "      <td>1.000</td>\n",
              "      <td>1.073</td>\n",
              "      <td>3.000</td>\n",
              "      <td>3.000</td>\n",
              "      <td>3.000</td>\n",
              "      <td>3.500</td>\n",
              "      <td>8.845</td>\n",
              "      <td>9.256</td>\n",
              "      <td>3.000</td>\n",
              "      <td>1.073</td>\n",
              "      <td>1.073</td>\n",
              "      <td>1.073</td>\n",
              "      <td>3.000</td>\n",
              "      <td>2.000</td>\n",
              "      <td>18.630</td>\n",
              "      <td>22.500</td>\n",
              "      <td>9.256</td>\n",
              "      <td>3.000</td>\n",
              "      <td>1.073</td>\n",
              "      <td>1.000</td>\n",
              "    </tr>\n",
              "  </tbody>\n",
              "</table>\n",
              "</div>"
            ],
            "text/plain": [
              "        Fecha      0      1      2      3  ...      19      20     21     22     23\n",
              "0  1995-07-20    NaN  1.073  1.073  1.073  ...   1.897   1.897  1.897  1.073  1.073\n",
              "1  1995-07-21  1.073  1.000  1.000  1.000  ...  16.670  11.929  5.000  1.000  1.000\n",
              "2  1995-07-22  1.073  1.073  1.000  1.000  ...   2.500   2.500  1.303  1.073  1.073\n",
              "3  1995-07-23  1.073  1.000  1.000  1.000  ...   1.238   1.238  1.238  1.073  1.000\n",
              "4  1995-07-24  1.000  1.000  0.990  1.000  ...  22.500   9.256  3.000  1.073  1.000\n",
              "\n",
              "[5 rows x 25 columns]"
            ]
          },
          "metadata": {
            "tags": []
          },
          "execution_count": 121
        }
      ]
    },
    {
      "cell_type": "code",
      "metadata": {
        "id": "GMhxI6R2pEdn",
        "colab_type": "code",
        "colab": {}
      },
      "source": [
        "#Cambiamos los NaN por cero\n",
        "for i in range(0,24):\n",
        "  conjuntoDatos[str(i)].fillna(0,inplace=True)"
      ],
      "execution_count": 0,
      "outputs": []
    },
    {
      "cell_type": "code",
      "metadata": {
        "id": "LK2sBhnXMTTc",
        "colab_type": "code",
        "outputId": "dd070033-752a-41e8-b0c7-a067ee9fcc3a",
        "colab": {
          "base_uri": "https://localhost:8080/",
          "height": 459
        }
      },
      "source": [
        "#Comprobamos el tipo de los datos\n",
        "conjuntoDatos.dtypes"
      ],
      "execution_count": 123,
      "outputs": [
        {
          "output_type": "execute_result",
          "data": {
            "text/plain": [
              "Fecha     object\n",
              "0        float64\n",
              "1        float64\n",
              "2        float64\n",
              "3        float64\n",
              "4        float64\n",
              "5        float64\n",
              "6        float64\n",
              "7        float64\n",
              "8        float64\n",
              "9        float64\n",
              "10       float64\n",
              "11       float64\n",
              "12       float64\n",
              "13       float64\n",
              "14       float64\n",
              "15       float64\n",
              "16       float64\n",
              "17       float64\n",
              "18       float64\n",
              "19       float64\n",
              "20       float64\n",
              "21       float64\n",
              "22       float64\n",
              "23       float64\n",
              "dtype: object"
            ]
          },
          "metadata": {
            "tags": []
          },
          "execution_count": 123
        }
      ]
    },
    {
      "cell_type": "code",
      "metadata": {
        "id": "VXLHpuAxMcj6",
        "colab_type": "code",
        "colab": {}
      },
      "source": [
        "#Convertimos la fecha a tipo 'datetime' para trabajar con ella\n",
        "conjuntoDatos['Fecha'] = pd.to_datetime(conjuntoDatos['Fecha'])"
      ],
      "execution_count": 0,
      "outputs": []
    },
    {
      "cell_type": "markdown",
      "metadata": {
        "id": "3qhw4ehVgsM6",
        "colab_type": "text"
      },
      "source": [
        "####Calculamos el promedio diario"
      ]
    },
    {
      "cell_type": "code",
      "metadata": {
        "id": "MiggqZbEdMgP",
        "colab_type": "code",
        "outputId": "30ef84d5-af46-4ef3-cdd3-384a62764224",
        "colab": {
          "base_uri": "https://localhost:8080/",
          "height": 204
        }
      },
      "source": [
        "#Calculamos el promedio por cada fecha y lo añadimos al dataframe\n",
        "conjuntoDatos['Promedio'] = conjuntoDatos.mean(axis=1)\n",
        "#Mostramos el promedio de las cinco primeras fechas\n",
        "conjuntoDatos[['Fecha','Promedio']].head()"
      ],
      "execution_count": 125,
      "outputs": [
        {
          "output_type": "execute_result",
          "data": {
            "text/html": [
              "<div>\n",
              "<style scoped>\n",
              "    .dataframe tbody tr th:only-of-type {\n",
              "        vertical-align: middle;\n",
              "    }\n",
              "\n",
              "    .dataframe tbody tr th {\n",
              "        vertical-align: top;\n",
              "    }\n",
              "\n",
              "    .dataframe thead th {\n",
              "        text-align: right;\n",
              "    }\n",
              "</style>\n",
              "<table border=\"1\" class=\"dataframe\">\n",
              "  <thead>\n",
              "    <tr style=\"text-align: right;\">\n",
              "      <th></th>\n",
              "      <th>Fecha</th>\n",
              "      <th>Promedio</th>\n",
              "    </tr>\n",
              "  </thead>\n",
              "  <tbody>\n",
              "    <tr>\n",
              "      <th>0</th>\n",
              "      <td>1995-07-20</td>\n",
              "      <td>1.350708</td>\n",
              "    </tr>\n",
              "    <tr>\n",
              "      <th>1</th>\n",
              "      <td>1995-07-21</td>\n",
              "      <td>4.924333</td>\n",
              "    </tr>\n",
              "    <tr>\n",
              "      <th>2</th>\n",
              "      <td>1995-07-22</td>\n",
              "      <td>1.269500</td>\n",
              "    </tr>\n",
              "    <tr>\n",
              "      <th>3</th>\n",
              "      <td>1995-07-23</td>\n",
              "      <td>0.953083</td>\n",
              "    </tr>\n",
              "    <tr>\n",
              "      <th>4</th>\n",
              "      <td>1995-07-24</td>\n",
              "      <td>4.305917</td>\n",
              "    </tr>\n",
              "  </tbody>\n",
              "</table>\n",
              "</div>"
            ],
            "text/plain": [
              "       Fecha  Promedio\n",
              "0 1995-07-20  1.350708\n",
              "1 1995-07-21  4.924333\n",
              "2 1995-07-22  1.269500\n",
              "3 1995-07-23  0.953083\n",
              "4 1995-07-24  4.305917"
            ]
          },
          "metadata": {
            "tags": []
          },
          "execution_count": 125
        }
      ]
    },
    {
      "cell_type": "markdown",
      "metadata": {
        "id": "039kBgjUDzb2",
        "colab_type": "text"
      },
      "source": [
        "#####Comprobamos si existen datos repetidos"
      ]
    },
    {
      "cell_type": "code",
      "metadata": {
        "id": "nNJktdP4kLK7",
        "colab_type": "code",
        "outputId": "7b32f11f-b8b4-4d1e-af87-c851822a71b5",
        "colab": {
          "base_uri": "https://localhost:8080/",
          "height": 549
        }
      },
      "source": [
        "#Creamos un dataframe auxiliar para guardar las fechas repetidas\n",
        "duplicados = conjuntoDatos[conjuntoDatos['Fecha'].duplicated(keep=False)]\n",
        "#Odenamos el dataframe por fecha\n",
        "duplicados=duplicados.sort_values('Fecha')\n",
        "#Mostramos las 10 primeras fechas para comprobar que se trata de fechas repetidas\n",
        "duplicados.head(10)"
      ],
      "execution_count": 126,
      "outputs": [
        {
          "output_type": "execute_result",
          "data": {
            "text/html": [
              "<div>\n",
              "<style scoped>\n",
              "    .dataframe tbody tr th:only-of-type {\n",
              "        vertical-align: middle;\n",
              "    }\n",
              "\n",
              "    .dataframe tbody tr th {\n",
              "        vertical-align: top;\n",
              "    }\n",
              "\n",
              "    .dataframe thead th {\n",
              "        text-align: right;\n",
              "    }\n",
              "</style>\n",
              "<table border=\"1\" class=\"dataframe\">\n",
              "  <thead>\n",
              "    <tr style=\"text-align: right;\">\n",
              "      <th></th>\n",
              "      <th>Fecha</th>\n",
              "      <th>0</th>\n",
              "      <th>1</th>\n",
              "      <th>2</th>\n",
              "      <th>3</th>\n",
              "      <th>4</th>\n",
              "      <th>5</th>\n",
              "      <th>6</th>\n",
              "      <th>7</th>\n",
              "      <th>8</th>\n",
              "      <th>9</th>\n",
              "      <th>10</th>\n",
              "      <th>11</th>\n",
              "      <th>12</th>\n",
              "      <th>13</th>\n",
              "      <th>14</th>\n",
              "      <th>15</th>\n",
              "      <th>16</th>\n",
              "      <th>17</th>\n",
              "      <th>18</th>\n",
              "      <th>19</th>\n",
              "      <th>20</th>\n",
              "      <th>21</th>\n",
              "      <th>22</th>\n",
              "      <th>23</th>\n",
              "      <th>Promedio</th>\n",
              "    </tr>\n",
              "  </thead>\n",
              "  <tbody>\n",
              "    <tr>\n",
              "      <th>1</th>\n",
              "      <td>1996-01-02</td>\n",
              "      <td>10.0</td>\n",
              "      <td>10.0</td>\n",
              "      <td>10.0</td>\n",
              "      <td>10.0</td>\n",
              "      <td>10.0</td>\n",
              "      <td>13.0</td>\n",
              "      <td>10.0</td>\n",
              "      <td>13.7</td>\n",
              "      <td>20.0</td>\n",
              "      <td>29.728</td>\n",
              "      <td>29.728</td>\n",
              "      <td>30.0</td>\n",
              "      <td>13.44</td>\n",
              "      <td>13.44</td>\n",
              "      <td>12.0</td>\n",
              "      <td>12.0</td>\n",
              "      <td>12.0</td>\n",
              "      <td>12.0</td>\n",
              "      <td>15.0</td>\n",
              "      <td>20.0</td>\n",
              "      <td>14.30</td>\n",
              "      <td>12.0</td>\n",
              "      <td>25.0</td>\n",
              "      <td>12.000</td>\n",
              "      <td>15.389000</td>\n",
              "    </tr>\n",
              "    <tr>\n",
              "      <th>373</th>\n",
              "      <td>1996-01-02</td>\n",
              "      <td>10.0</td>\n",
              "      <td>10.0</td>\n",
              "      <td>10.0</td>\n",
              "      <td>10.0</td>\n",
              "      <td>10.0</td>\n",
              "      <td>13.0</td>\n",
              "      <td>10.0</td>\n",
              "      <td>13.7</td>\n",
              "      <td>20.0</td>\n",
              "      <td>29.728</td>\n",
              "      <td>29.728</td>\n",
              "      <td>30.0</td>\n",
              "      <td>13.44</td>\n",
              "      <td>13.44</td>\n",
              "      <td>12.0</td>\n",
              "      <td>12.0</td>\n",
              "      <td>12.0</td>\n",
              "      <td>12.0</td>\n",
              "      <td>15.0</td>\n",
              "      <td>20.0</td>\n",
              "      <td>14.30</td>\n",
              "      <td>12.0</td>\n",
              "      <td>25.0</td>\n",
              "      <td>12.000</td>\n",
              "      <td>15.389000</td>\n",
              "    </tr>\n",
              "    <tr>\n",
              "      <th>2</th>\n",
              "      <td>1996-01-03</td>\n",
              "      <td>12.0</td>\n",
              "      <td>10.0</td>\n",
              "      <td>10.0</td>\n",
              "      <td>10.0</td>\n",
              "      <td>12.0</td>\n",
              "      <td>13.0</td>\n",
              "      <td>21.2</td>\n",
              "      <td>30.0</td>\n",
              "      <td>30.0</td>\n",
              "      <td>30.000</td>\n",
              "      <td>30.000</td>\n",
              "      <td>30.0</td>\n",
              "      <td>30.00</td>\n",
              "      <td>30.00</td>\n",
              "      <td>30.0</td>\n",
              "      <td>10.0</td>\n",
              "      <td>10.0</td>\n",
              "      <td>10.0</td>\n",
              "      <td>15.0</td>\n",
              "      <td>15.0</td>\n",
              "      <td>30.92</td>\n",
              "      <td>12.0</td>\n",
              "      <td>30.0</td>\n",
              "      <td>10.999</td>\n",
              "      <td>19.671625</td>\n",
              "    </tr>\n",
              "    <tr>\n",
              "      <th>374</th>\n",
              "      <td>1996-01-03</td>\n",
              "      <td>12.0</td>\n",
              "      <td>10.0</td>\n",
              "      <td>10.0</td>\n",
              "      <td>10.0</td>\n",
              "      <td>12.0</td>\n",
              "      <td>13.0</td>\n",
              "      <td>0.0</td>\n",
              "      <td>30.0</td>\n",
              "      <td>30.0</td>\n",
              "      <td>30.000</td>\n",
              "      <td>30.000</td>\n",
              "      <td>30.0</td>\n",
              "      <td>30.00</td>\n",
              "      <td>30.00</td>\n",
              "      <td>30.0</td>\n",
              "      <td>10.0</td>\n",
              "      <td>10.0</td>\n",
              "      <td>10.0</td>\n",
              "      <td>15.0</td>\n",
              "      <td>15.0</td>\n",
              "      <td>30.92</td>\n",
              "      <td>12.0</td>\n",
              "      <td>30.0</td>\n",
              "      <td>10.999</td>\n",
              "      <td>18.788292</td>\n",
              "    </tr>\n",
              "    <tr>\n",
              "      <th>3</th>\n",
              "      <td>1996-01-04</td>\n",
              "      <td>12.8</td>\n",
              "      <td>13.0</td>\n",
              "      <td>12.0</td>\n",
              "      <td>12.0</td>\n",
              "      <td>13.0</td>\n",
              "      <td>13.0</td>\n",
              "      <td>30.0</td>\n",
              "      <td>30.0</td>\n",
              "      <td>30.0</td>\n",
              "      <td>30.000</td>\n",
              "      <td>30.000</td>\n",
              "      <td>30.0</td>\n",
              "      <td>30.00</td>\n",
              "      <td>30.00</td>\n",
              "      <td>30.0</td>\n",
              "      <td>20.0</td>\n",
              "      <td>20.0</td>\n",
              "      <td>20.0</td>\n",
              "      <td>40.0</td>\n",
              "      <td>40.0</td>\n",
              "      <td>32.00</td>\n",
              "      <td>15.0</td>\n",
              "      <td>20.0</td>\n",
              "      <td>13.000</td>\n",
              "      <td>23.575000</td>\n",
              "    </tr>\n",
              "    <tr>\n",
              "      <th>375</th>\n",
              "      <td>1996-01-04</td>\n",
              "      <td>12.8</td>\n",
              "      <td>13.0</td>\n",
              "      <td>12.0</td>\n",
              "      <td>12.0</td>\n",
              "      <td>13.0</td>\n",
              "      <td>13.0</td>\n",
              "      <td>30.0</td>\n",
              "      <td>30.0</td>\n",
              "      <td>30.0</td>\n",
              "      <td>30.000</td>\n",
              "      <td>30.000</td>\n",
              "      <td>30.0</td>\n",
              "      <td>30.00</td>\n",
              "      <td>30.00</td>\n",
              "      <td>30.0</td>\n",
              "      <td>20.0</td>\n",
              "      <td>20.0</td>\n",
              "      <td>20.0</td>\n",
              "      <td>40.0</td>\n",
              "      <td>40.0</td>\n",
              "      <td>32.00</td>\n",
              "      <td>15.0</td>\n",
              "      <td>20.0</td>\n",
              "      <td>13.000</td>\n",
              "      <td>23.575000</td>\n",
              "    </tr>\n",
              "    <tr>\n",
              "      <th>4</th>\n",
              "      <td>1996-01-05</td>\n",
              "      <td>18.0</td>\n",
              "      <td>17.0</td>\n",
              "      <td>17.0</td>\n",
              "      <td>17.0</td>\n",
              "      <td>18.0</td>\n",
              "      <td>18.0</td>\n",
              "      <td>20.0</td>\n",
              "      <td>35.0</td>\n",
              "      <td>40.0</td>\n",
              "      <td>40.000</td>\n",
              "      <td>40.000</td>\n",
              "      <td>40.0</td>\n",
              "      <td>40.00</td>\n",
              "      <td>40.00</td>\n",
              "      <td>35.0</td>\n",
              "      <td>15.0</td>\n",
              "      <td>15.0</td>\n",
              "      <td>15.0</td>\n",
              "      <td>40.0</td>\n",
              "      <td>40.0</td>\n",
              "      <td>30.00</td>\n",
              "      <td>18.0</td>\n",
              "      <td>20.0</td>\n",
              "      <td>18.000</td>\n",
              "      <td>26.916667</td>\n",
              "    </tr>\n",
              "    <tr>\n",
              "      <th>376</th>\n",
              "      <td>1996-01-05</td>\n",
              "      <td>18.0</td>\n",
              "      <td>17.0</td>\n",
              "      <td>17.0</td>\n",
              "      <td>17.0</td>\n",
              "      <td>18.0</td>\n",
              "      <td>18.0</td>\n",
              "      <td>20.0</td>\n",
              "      <td>35.0</td>\n",
              "      <td>40.0</td>\n",
              "      <td>40.000</td>\n",
              "      <td>40.000</td>\n",
              "      <td>40.0</td>\n",
              "      <td>40.00</td>\n",
              "      <td>40.00</td>\n",
              "      <td>35.0</td>\n",
              "      <td>15.0</td>\n",
              "      <td>15.0</td>\n",
              "      <td>15.0</td>\n",
              "      <td>40.0</td>\n",
              "      <td>40.0</td>\n",
              "      <td>30.00</td>\n",
              "      <td>18.0</td>\n",
              "      <td>20.0</td>\n",
              "      <td>18.000</td>\n",
              "      <td>26.916667</td>\n",
              "    </tr>\n",
              "    <tr>\n",
              "      <th>5</th>\n",
              "      <td>1996-01-06</td>\n",
              "      <td>14.0</td>\n",
              "      <td>12.0</td>\n",
              "      <td>12.0</td>\n",
              "      <td>12.0</td>\n",
              "      <td>14.0</td>\n",
              "      <td>14.3</td>\n",
              "      <td>20.0</td>\n",
              "      <td>30.0</td>\n",
              "      <td>40.0</td>\n",
              "      <td>40.000</td>\n",
              "      <td>40.000</td>\n",
              "      <td>40.0</td>\n",
              "      <td>40.00</td>\n",
              "      <td>40.00</td>\n",
              "      <td>30.0</td>\n",
              "      <td>14.0</td>\n",
              "      <td>14.0</td>\n",
              "      <td>14.0</td>\n",
              "      <td>28.0</td>\n",
              "      <td>40.0</td>\n",
              "      <td>28.00</td>\n",
              "      <td>21.0</td>\n",
              "      <td>20.0</td>\n",
              "      <td>14.000</td>\n",
              "      <td>24.637500</td>\n",
              "    </tr>\n",
              "    <tr>\n",
              "      <th>377</th>\n",
              "      <td>1996-01-06</td>\n",
              "      <td>14.0</td>\n",
              "      <td>12.0</td>\n",
              "      <td>12.0</td>\n",
              "      <td>12.0</td>\n",
              "      <td>14.0</td>\n",
              "      <td>14.3</td>\n",
              "      <td>20.0</td>\n",
              "      <td>30.0</td>\n",
              "      <td>40.0</td>\n",
              "      <td>40.000</td>\n",
              "      <td>40.000</td>\n",
              "      <td>40.0</td>\n",
              "      <td>40.00</td>\n",
              "      <td>40.00</td>\n",
              "      <td>0.0</td>\n",
              "      <td>14.0</td>\n",
              "      <td>14.0</td>\n",
              "      <td>14.0</td>\n",
              "      <td>28.0</td>\n",
              "      <td>40.0</td>\n",
              "      <td>28.00</td>\n",
              "      <td>21.0</td>\n",
              "      <td>20.0</td>\n",
              "      <td>14.000</td>\n",
              "      <td>23.387500</td>\n",
              "    </tr>\n",
              "  </tbody>\n",
              "</table>\n",
              "</div>"
            ],
            "text/plain": [
              "         Fecha     0     1     2     3  ...     20    21    22      23   Promedio\n",
              "1   1996-01-02  10.0  10.0  10.0  10.0  ...  14.30  12.0  25.0  12.000  15.389000\n",
              "373 1996-01-02  10.0  10.0  10.0  10.0  ...  14.30  12.0  25.0  12.000  15.389000\n",
              "2   1996-01-03  12.0  10.0  10.0  10.0  ...  30.92  12.0  30.0  10.999  19.671625\n",
              "374 1996-01-03  12.0  10.0  10.0  10.0  ...  30.92  12.0  30.0  10.999  18.788292\n",
              "3   1996-01-04  12.8  13.0  12.0  12.0  ...  32.00  15.0  20.0  13.000  23.575000\n",
              "375 1996-01-04  12.8  13.0  12.0  12.0  ...  32.00  15.0  20.0  13.000  23.575000\n",
              "4   1996-01-05  18.0  17.0  17.0  17.0  ...  30.00  18.0  20.0  18.000  26.916667\n",
              "376 1996-01-05  18.0  17.0  17.0  17.0  ...  30.00  18.0  20.0  18.000  26.916667\n",
              "5   1996-01-06  14.0  12.0  12.0  12.0  ...  28.00  21.0  20.0  14.000  24.637500\n",
              "377 1996-01-06  14.0  12.0  12.0  12.0  ...  28.00  21.0  20.0  14.000  23.387500\n",
              "\n",
              "[10 rows x 26 columns]"
            ]
          },
          "metadata": {
            "tags": []
          },
          "execution_count": 126
        }
      ]
    },
    {
      "cell_type": "code",
      "metadata": {
        "id": "9lwJmHK6FK6n",
        "colab_type": "code",
        "colab": {}
      },
      "source": [
        "#Eliminamos los datos repetidos\n",
        "conjuntoDatos.drop_duplicates(subset='Fecha',keep='first',inplace=True)"
      ],
      "execution_count": 0,
      "outputs": []
    },
    {
      "cell_type": "code",
      "metadata": {
        "id": "qJ05c0X9JpLq",
        "colab_type": "code",
        "outputId": "aab7069f-e17e-47c5-8aa2-1e0513297292",
        "colab": {
          "base_uri": "https://localhost:8080/",
          "height": 204
        }
      },
      "source": [
        "#Sacamos las columnas innecesarias del conjunto de datos\n",
        "conjuntoDatos=conjuntoDatos[['Fecha','Promedio']]\n",
        "conjuntoDatos.head()"
      ],
      "execution_count": 128,
      "outputs": [
        {
          "output_type": "execute_result",
          "data": {
            "text/html": [
              "<div>\n",
              "<style scoped>\n",
              "    .dataframe tbody tr th:only-of-type {\n",
              "        vertical-align: middle;\n",
              "    }\n",
              "\n",
              "    .dataframe tbody tr th {\n",
              "        vertical-align: top;\n",
              "    }\n",
              "\n",
              "    .dataframe thead th {\n",
              "        text-align: right;\n",
              "    }\n",
              "</style>\n",
              "<table border=\"1\" class=\"dataframe\">\n",
              "  <thead>\n",
              "    <tr style=\"text-align: right;\">\n",
              "      <th></th>\n",
              "      <th>Fecha</th>\n",
              "      <th>Promedio</th>\n",
              "    </tr>\n",
              "  </thead>\n",
              "  <tbody>\n",
              "    <tr>\n",
              "      <th>0</th>\n",
              "      <td>1995-07-20</td>\n",
              "      <td>1.350708</td>\n",
              "    </tr>\n",
              "    <tr>\n",
              "      <th>1</th>\n",
              "      <td>1995-07-21</td>\n",
              "      <td>4.924333</td>\n",
              "    </tr>\n",
              "    <tr>\n",
              "      <th>2</th>\n",
              "      <td>1995-07-22</td>\n",
              "      <td>1.269500</td>\n",
              "    </tr>\n",
              "    <tr>\n",
              "      <th>3</th>\n",
              "      <td>1995-07-23</td>\n",
              "      <td>0.953083</td>\n",
              "    </tr>\n",
              "    <tr>\n",
              "      <th>4</th>\n",
              "      <td>1995-07-24</td>\n",
              "      <td>4.305917</td>\n",
              "    </tr>\n",
              "  </tbody>\n",
              "</table>\n",
              "</div>"
            ],
            "text/plain": [
              "       Fecha  Promedio\n",
              "0 1995-07-20  1.350708\n",
              "1 1995-07-21  4.924333\n",
              "2 1995-07-22  1.269500\n",
              "3 1995-07-23  0.953083\n",
              "4 1995-07-24  4.305917"
            ]
          },
          "metadata": {
            "tags": []
          },
          "execution_count": 128
        }
      ]
    },
    {
      "cell_type": "markdown",
      "metadata": {
        "id": "EYOcWqVjSRkr",
        "colab_type": "text"
      },
      "source": [
        "####Graficamos el promedio de los precios de energía"
      ]
    },
    {
      "cell_type": "code",
      "metadata": {
        "id": "QVH7jD17hgEg",
        "colab_type": "code",
        "outputId": "6de2a6d2-378a-4c85-b77a-c87e8ab75263",
        "colab": {
          "base_uri": "https://localhost:8080/",
          "height": 458
        }
      },
      "source": [
        "#Graficamos el conjunto de datos\n",
        "plt.figure(figsize=(20,7))\n",
        "plt.title('Promedio de precios de la energía')\n",
        "plt.ylabel('Precio')\n",
        "plt.xlabel('Año')\n",
        "plt.plot(conjuntoDatos['Fecha'], conjuntoDatos['Promedio'], color='gold')\n",
        "plt.show()"
      ],
      "execution_count": 129,
      "outputs": [
        {
          "output_type": "display_data",
          "data": {
            "image/png": "[encoded data removed]",
            "text/plain": [
              "<Figure size 1440x504 with 1 Axes>"
            ]
          },
          "metadata": {
            "tags": []
          }
        }
      ]
    },
    {
      "cell_type": "markdown",
      "metadata": {
        "id": "eBVBzvmqtwdC",
        "colab_type": "text"
      },
      "source": [
        "####Realizamos el procesamiento de datos para el IPC"
      ]
    },
    {
      "cell_type": "code",
      "metadata": {
        "id": "x0gRHO7xsGI6",
        "colab_type": "code",
        "outputId": "2f2139f9-944e-4a10-dbcb-259e9d364e7d",
        "colab": {
          "base_uri": "https://localhost:8080/",
          "height": 204
        }
      },
      "source": [
        "#Cargamos el conjunto de datos del IPC eliminando las primeras filas, ya que no contienen información relevante\n",
        "IPC = pd.read_excel('./Datos/IPC.xlsx',skiprows=12)\n",
        "#Mostramos los primeros datos del IPC con el fin de determinar que columnas son necesarias\n",
        "IPC.head()"
      ],
      "execution_count": 130,
      "outputs": [
        {
          "output_type": "execute_result",
          "data": {
            "text/html": [
              "<div>\n",
              "<style scoped>\n",
              "    .dataframe tbody tr th:only-of-type {\n",
              "        vertical-align: middle;\n",
              "    }\n",
              "\n",
              "    .dataframe tbody tr th {\n",
              "        vertical-align: top;\n",
              "    }\n",
              "\n",
              "    .dataframe thead th {\n",
              "        text-align: right;\n",
              "    }\n",
              "</style>\n",
              "<table border=\"1\" class=\"dataframe\">\n",
              "  <thead>\n",
              "    <tr style=\"text-align: right;\">\n",
              "      <th></th>\n",
              "      <th>Año(aaaa)-Mes(mm)</th>\n",
              "      <th>Índice</th>\n",
              "      <th>Inflación anual</th>\n",
              "      <th>Inflación mensual</th>\n",
              "      <th>Inflación año corrido</th>\n",
              "    </tr>\n",
              "  </thead>\n",
              "  <tbody>\n",
              "    <tr>\n",
              "      <th>0</th>\n",
              "      <td>202002</td>\n",
              "      <td>104.94</td>\n",
              "      <td>0.0372</td>\n",
              "      <td>0.0067</td>\n",
              "      <td>0.0109</td>\n",
              "    </tr>\n",
              "    <tr>\n",
              "      <th>1</th>\n",
              "      <td>202001</td>\n",
              "      <td>104.24</td>\n",
              "      <td>0.0362</td>\n",
              "      <td>0.0042</td>\n",
              "      <td>0.0042</td>\n",
              "    </tr>\n",
              "    <tr>\n",
              "      <th>2</th>\n",
              "      <td>201912</td>\n",
              "      <td>103.80</td>\n",
              "      <td>0.0380</td>\n",
              "      <td>0.0026</td>\n",
              "      <td>0.0380</td>\n",
              "    </tr>\n",
              "    <tr>\n",
              "      <th>3</th>\n",
              "      <td>201911</td>\n",
              "      <td>103.54</td>\n",
              "      <td>0.0384</td>\n",
              "      <td>0.0010</td>\n",
              "      <td>0.0354</td>\n",
              "    </tr>\n",
              "    <tr>\n",
              "      <th>4</th>\n",
              "      <td>201910</td>\n",
              "      <td>103.43</td>\n",
              "      <td>0.0386</td>\n",
              "      <td>0.0016</td>\n",
              "      <td>0.0343</td>\n",
              "    </tr>\n",
              "  </tbody>\n",
              "</table>\n",
              "</div>"
            ],
            "text/plain": [
              "  Año(aaaa)-Mes(mm)  Índice  ...  Inflación mensual  Inflación año corrido\n",
              "0            202002  104.94  ...             0.0067                 0.0109\n",
              "1            202001  104.24  ...             0.0042                 0.0042\n",
              "2            201912  103.80  ...             0.0026                 0.0380\n",
              "3            201911  103.54  ...             0.0010                 0.0354\n",
              "4            201910  103.43  ...             0.0016                 0.0343\n",
              "\n",
              "[5 rows x 5 columns]"
            ]
          },
          "metadata": {
            "tags": []
          },
          "execution_count": 130
        }
      ]
    },
    {
      "cell_type": "code",
      "metadata": {
        "id": "Tw9VzoWt0H-i",
        "colab_type": "code",
        "colab": {}
      },
      "source": [
        "#Eliminamos las ultimas filas ya que contienen unformación irrelevante\n",
        "IPC.drop(range(788,794),axis=0,inplace=True)"
      ],
      "execution_count": 0,
      "outputs": []
    },
    {
      "cell_type": "code",
      "metadata": {
        "id": "jI7jVRtru7Os",
        "colab_type": "code",
        "outputId": "09b3c44a-91e7-4efc-949f-fd6d59f54f95",
        "colab": {
          "base_uri": "https://localhost:8080/",
          "height": 204
        }
      },
      "source": [
        "#Dado que solo necesitamos la fecha y el indice eliminamos las columnas innecesarias\n",
        "IPC.drop(['Inflación anual', 'Inflación mensual','Inflación año corrido'], axis = 'columns', inplace=True )\n",
        "IPC.head()"
      ],
      "execution_count": 132,
      "outputs": [
        {
          "output_type": "execute_result",
          "data": {
            "text/html": [
              "<div>\n",
              "<style scoped>\n",
              "    .dataframe tbody tr th:only-of-type {\n",
              "        vertical-align: middle;\n",
              "    }\n",
              "\n",
              "    .dataframe tbody tr th {\n",
              "        vertical-align: top;\n",
              "    }\n",
              "\n",
              "    .dataframe thead th {\n",
              "        text-align: right;\n",
              "    }\n",
              "</style>\n",
              "<table border=\"1\" class=\"dataframe\">\n",
              "  <thead>\n",
              "    <tr style=\"text-align: right;\">\n",
              "      <th></th>\n",
              "      <th>Año(aaaa)-Mes(mm)</th>\n",
              "      <th>Índice</th>\n",
              "    </tr>\n",
              "  </thead>\n",
              "  <tbody>\n",
              "    <tr>\n",
              "      <th>0</th>\n",
              "      <td>202002</td>\n",
              "      <td>104.94</td>\n",
              "    </tr>\n",
              "    <tr>\n",
              "      <th>1</th>\n",
              "      <td>202001</td>\n",
              "      <td>104.24</td>\n",
              "    </tr>\n",
              "    <tr>\n",
              "      <th>2</th>\n",
              "      <td>201912</td>\n",
              "      <td>103.80</td>\n",
              "    </tr>\n",
              "    <tr>\n",
              "      <th>3</th>\n",
              "      <td>201911</td>\n",
              "      <td>103.54</td>\n",
              "    </tr>\n",
              "    <tr>\n",
              "      <th>4</th>\n",
              "      <td>201910</td>\n",
              "      <td>103.43</td>\n",
              "    </tr>\n",
              "  </tbody>\n",
              "</table>\n",
              "</div>"
            ],
            "text/plain": [
              "  Año(aaaa)-Mes(mm)  Índice\n",
              "0            202002  104.94\n",
              "1            202001  104.24\n",
              "2            201912  103.80\n",
              "3            201911  103.54\n",
              "4            201910  103.43"
            ]
          },
          "metadata": {
            "tags": []
          },
          "execution_count": 132
        }
      ]
    },
    {
      "cell_type": "code",
      "metadata": {
        "id": "sLZRo0vGw6rr",
        "colab_type": "code",
        "colab": {}
      },
      "source": [
        "#Cambiamos el nombre de las columnas por comodidad\n",
        "IPC.columns = ['FechaIPC', 'Indice']"
      ],
      "execution_count": 0,
      "outputs": []
    },
    {
      "cell_type": "code",
      "metadata": {
        "id": "ftmY_0RfvsqT",
        "colab_type": "code",
        "outputId": "dcce168f-63ac-49bf-f0c3-3e4b868a7a1b",
        "colab": {
          "base_uri": "https://localhost:8080/",
          "height": 68
        }
      },
      "source": [
        "#Observamos el tipo de los datos para detectar si es necesario realizar conversiones\n",
        "IPC.dtypes"
      ],
      "execution_count": 134,
      "outputs": [
        {
          "output_type": "execute_result",
          "data": {
            "text/plain": [
              "FechaIPC     object\n",
              "Indice      float64\n",
              "dtype: object"
            ]
          },
          "metadata": {
            "tags": []
          },
          "execution_count": 134
        }
      ]
    },
    {
      "cell_type": "code",
      "metadata": {
        "id": "nJ7BBjzxv-Ns",
        "colab_type": "code",
        "colab": {}
      },
      "source": [
        "#Convertimos la fecha del IPC a datetime y establecemos la fecha de forma mensual\n",
        "IPC['FechaIPC'] = pd.to_datetime(IPC[\"FechaIPC\"],format=\"%Y%m\").dt.to_period('M')\n",
        "#Creamos la columna 'FechaIPC' al conjunto de datos principal con la finalidad\n",
        "#De usar esta columna para unir los dos conjuntos de datos\n",
        "conjuntoDatos['FechaIPC'] = pd.to_datetime(conjuntoDatos['Fecha']).dt.to_period('M')"
      ],
      "execution_count": 0,
      "outputs": []
    },
    {
      "cell_type": "code",
      "metadata": {
        "colab_type": "code",
        "outputId": "85f238ab-be48-4ae4-ce4d-a20c8878b082",
        "id": "OopN-hk8BJvJ",
        "colab": {
          "base_uri": "https://localhost:8080/",
          "height": 204
        }
      },
      "source": [
        "#Unimos el conjunto de datos con el IPC correspondiente a cada més\n",
        "conjuntoDatos=pd.merge(conjuntoDatos,IPC, on=\"FechaIPC\")\n",
        "#Mostramos el resultado del conjunto de datos unido\n",
        "conjuntoDatos.head()"
      ],
      "execution_count": 136,
      "outputs": [
        {
          "output_type": "execute_result",
          "data": {
            "text/html": [
              "<div>\n",
              "<style scoped>\n",
              "    .dataframe tbody tr th:only-of-type {\n",
              "        vertical-align: middle;\n",
              "    }\n",
              "\n",
              "    .dataframe tbody tr th {\n",
              "        vertical-align: top;\n",
              "    }\n",
              "\n",
              "    .dataframe thead th {\n",
              "        text-align: right;\n",
              "    }\n",
              "</style>\n",
              "<table border=\"1\" class=\"dataframe\">\n",
              "  <thead>\n",
              "    <tr style=\"text-align: right;\">\n",
              "      <th></th>\n",
              "      <th>Fecha</th>\n",
              "      <th>Promedio</th>\n",
              "      <th>FechaIPC</th>\n",
              "      <th>Indice</th>\n",
              "    </tr>\n",
              "  </thead>\n",
              "  <tbody>\n",
              "    <tr>\n",
              "      <th>0</th>\n",
              "      <td>1995-07-20</td>\n",
              "      <td>1.350708</td>\n",
              "      <td>1995-07</td>\n",
              "      <td>20.93</td>\n",
              "    </tr>\n",
              "    <tr>\n",
              "      <th>1</th>\n",
              "      <td>1995-07-21</td>\n",
              "      <td>4.924333</td>\n",
              "      <td>1995-07</td>\n",
              "      <td>20.93</td>\n",
              "    </tr>\n",
              "    <tr>\n",
              "      <th>2</th>\n",
              "      <td>1995-07-22</td>\n",
              "      <td>1.269500</td>\n",
              "      <td>1995-07</td>\n",
              "      <td>20.93</td>\n",
              "    </tr>\n",
              "    <tr>\n",
              "      <th>3</th>\n",
              "      <td>1995-07-23</td>\n",
              "      <td>0.953083</td>\n",
              "      <td>1995-07</td>\n",
              "      <td>20.93</td>\n",
              "    </tr>\n",
              "    <tr>\n",
              "      <th>4</th>\n",
              "      <td>1995-07-24</td>\n",
              "      <td>4.305917</td>\n",
              "      <td>1995-07</td>\n",
              "      <td>20.93</td>\n",
              "    </tr>\n",
              "  </tbody>\n",
              "</table>\n",
              "</div>"
            ],
            "text/plain": [
              "       Fecha  Promedio FechaIPC  Indice\n",
              "0 1995-07-20  1.350708  1995-07   20.93\n",
              "1 1995-07-21  4.924333  1995-07   20.93\n",
              "2 1995-07-22  1.269500  1995-07   20.93\n",
              "3 1995-07-23  0.953083  1995-07   20.93\n",
              "4 1995-07-24  4.305917  1995-07   20.93"
            ]
          },
          "metadata": {
            "tags": []
          },
          "execution_count": 136
        }
      ]
    },
    {
      "cell_type": "code",
      "metadata": {
        "id": "-VRxIa0Cl51c",
        "colab_type": "code",
        "colab": {
          "base_uri": "https://localhost:8080/",
          "height": 204
        },
        "outputId": "4d8b1ba8-db60-421c-cce8-3f10dd872a72"
      },
      "source": [
        "conjuntoDatos.tail()"
      ],
      "execution_count": 137,
      "outputs": [
        {
          "output_type": "execute_result",
          "data": {
            "text/html": [
              "<div>\n",
              "<style scoped>\n",
              "    .dataframe tbody tr th:only-of-type {\n",
              "        vertical-align: middle;\n",
              "    }\n",
              "\n",
              "    .dataframe tbody tr th {\n",
              "        vertical-align: top;\n",
              "    }\n",
              "\n",
              "    .dataframe thead th {\n",
              "        text-align: right;\n",
              "    }\n",
              "</style>\n",
              "<table border=\"1\" class=\"dataframe\">\n",
              "  <thead>\n",
              "    <tr style=\"text-align: right;\">\n",
              "      <th></th>\n",
              "      <th>Fecha</th>\n",
              "      <th>Promedio</th>\n",
              "      <th>FechaIPC</th>\n",
              "      <th>Indice</th>\n",
              "    </tr>\n",
              "  </thead>\n",
              "  <tbody>\n",
              "    <tr>\n",
              "      <th>8321</th>\n",
              "      <td>2018-05-01</td>\n",
              "      <td>71.666726</td>\n",
              "      <td>2018-05</td>\n",
              "      <td>99.16</td>\n",
              "    </tr>\n",
              "    <tr>\n",
              "      <th>8322</th>\n",
              "      <td>2018-05-02</td>\n",
              "      <td>76.374441</td>\n",
              "      <td>2018-05</td>\n",
              "      <td>99.16</td>\n",
              "    </tr>\n",
              "    <tr>\n",
              "      <th>8323</th>\n",
              "      <td>2018-05-03</td>\n",
              "      <td>71.148348</td>\n",
              "      <td>2018-05</td>\n",
              "      <td>99.16</td>\n",
              "    </tr>\n",
              "    <tr>\n",
              "      <th>8324</th>\n",
              "      <td>2018-05-04</td>\n",
              "      <td>64.710120</td>\n",
              "      <td>2018-05</td>\n",
              "      <td>99.16</td>\n",
              "    </tr>\n",
              "    <tr>\n",
              "      <th>8325</th>\n",
              "      <td>2018-05-05</td>\n",
              "      <td>73.972085</td>\n",
              "      <td>2018-05</td>\n",
              "      <td>99.16</td>\n",
              "    </tr>\n",
              "  </tbody>\n",
              "</table>\n",
              "</div>"
            ],
            "text/plain": [
              "          Fecha   Promedio FechaIPC  Indice\n",
              "8321 2018-05-01  71.666726  2018-05   99.16\n",
              "8322 2018-05-02  76.374441  2018-05   99.16\n",
              "8323 2018-05-03  71.148348  2018-05   99.16\n",
              "8324 2018-05-04  64.710120  2018-05   99.16\n",
              "8325 2018-05-05  73.972085  2018-05   99.16"
            ]
          },
          "metadata": {
            "tags": []
          },
          "execution_count": 137
        }
      ]
    },
    {
      "cell_type": "code",
      "metadata": {
        "id": "ifkr-NjTLuhH",
        "colab_type": "code",
        "colab": {}
      },
      "source": [
        "#Eliminamos la columna 'FechaIPC' dado que ahora no es de utilidad\n",
        "conjuntoDatos.drop('FechaIPC',axis='columns', inplace=True )"
      ],
      "execution_count": 0,
      "outputs": []
    },
    {
      "cell_type": "markdown",
      "metadata": {
        "id": "0zxdRw4zQ_U8",
        "colab_type": "text"
      },
      "source": [
        "####Calculamos el precio diario de la energía normalizado"
      ]
    },
    {
      "cell_type": "code",
      "metadata": {
        "id": "MWBXtDLmPYyv",
        "colab_type": "code",
        "outputId": "7d3b56ea-78a3-47fa-9a91-ca2313ed9ec8",
        "colab": {
          "base_uri": "https://localhost:8080/",
          "height": 204
        }
      },
      "source": [
        "#Como IPC base el de la fecha inicial del conjunto de datos,\n",
        "#correspondiente al 20 de julio de 1995\n",
        "IPCbase=20.93\n",
        "conjuntoDatos['PrecioDiario']=conjuntoDatos['Promedio']*(IPCbase/conjuntoDatos['Indice'])\n",
        "conjuntoDatos.head()"
      ],
      "execution_count": 139,
      "outputs": [
        {
          "output_type": "execute_result",
          "data": {
            "text/html": [
              "<div>\n",
              "<style scoped>\n",
              "    .dataframe tbody tr th:only-of-type {\n",
              "        vertical-align: middle;\n",
              "    }\n",
              "\n",
              "    .dataframe tbody tr th {\n",
              "        vertical-align: top;\n",
              "    }\n",
              "\n",
              "    .dataframe thead th {\n",
              "        text-align: right;\n",
              "    }\n",
              "</style>\n",
              "<table border=\"1\" class=\"dataframe\">\n",
              "  <thead>\n",
              "    <tr style=\"text-align: right;\">\n",
              "      <th></th>\n",
              "      <th>Fecha</th>\n",
              "      <th>Promedio</th>\n",
              "      <th>Indice</th>\n",
              "      <th>PrecioDiario</th>\n",
              "    </tr>\n",
              "  </thead>\n",
              "  <tbody>\n",
              "    <tr>\n",
              "      <th>0</th>\n",
              "      <td>1995-07-20</td>\n",
              "      <td>1.350708</td>\n",
              "      <td>20.93</td>\n",
              "      <td>1.350708</td>\n",
              "    </tr>\n",
              "    <tr>\n",
              "      <th>1</th>\n",
              "      <td>1995-07-21</td>\n",
              "      <td>4.924333</td>\n",
              "      <td>20.93</td>\n",
              "      <td>4.924333</td>\n",
              "    </tr>\n",
              "    <tr>\n",
              "      <th>2</th>\n",
              "      <td>1995-07-22</td>\n",
              "      <td>1.269500</td>\n",
              "      <td>20.93</td>\n",
              "      <td>1.269500</td>\n",
              "    </tr>\n",
              "    <tr>\n",
              "      <th>3</th>\n",
              "      <td>1995-07-23</td>\n",
              "      <td>0.953083</td>\n",
              "      <td>20.93</td>\n",
              "      <td>0.953083</td>\n",
              "    </tr>\n",
              "    <tr>\n",
              "      <th>4</th>\n",
              "      <td>1995-07-24</td>\n",
              "      <td>4.305917</td>\n",
              "      <td>20.93</td>\n",
              "      <td>4.305917</td>\n",
              "    </tr>\n",
              "  </tbody>\n",
              "</table>\n",
              "</div>"
            ],
            "text/plain": [
              "       Fecha  Promedio  Indice  PrecioDiario\n",
              "0 1995-07-20  1.350708   20.93      1.350708\n",
              "1 1995-07-21  4.924333   20.93      4.924333\n",
              "2 1995-07-22  1.269500   20.93      1.269500\n",
              "3 1995-07-23  0.953083   20.93      0.953083\n",
              "4 1995-07-24  4.305917   20.93      4.305917"
            ]
          },
          "metadata": {
            "tags": []
          },
          "execution_count": 139
        }
      ]
    },
    {
      "cell_type": "code",
      "metadata": {
        "id": "e8vKm8OdTuAe",
        "colab_type": "code",
        "outputId": "c6864c57-bdb4-487a-f698-834c1a3a660f",
        "colab": {
          "base_uri": "https://localhost:8080/",
          "height": 458
        }
      },
      "source": [
        "#Graficamos el el precio promedio y el precio normalizado\n",
        "plt.figure(figsize=(20,7))\n",
        "plt.title('Promedio de precios de la energía')\n",
        "plt.ylabel('Precio')\n",
        "plt.xlabel('Año')\n",
        "plt.plot(conjuntoDatos['Fecha'], conjuntoDatos['Promedio'], color='gold',label=\"Precio promedio de la energía\")\n",
        "plt.plot(conjuntoDatos['Fecha'], conjuntoDatos['PrecioDiario'], color='green',label=\"Precio promedio de la energía normalizado\")\n",
        "plt.legend()\n",
        "plt.show()"
      ],
      "execution_count": 140,
      "outputs": [
        {
          "output_type": "display_data",
          "data": {
            "image/png": "[encoded data removed]",
            "text/plain": [
              "<Figure size 1440x504 with 1 Axes>"
            ]
          },
          "metadata": {
            "tags": []
          }
        }
      ]
    },
    {
      "cell_type": "markdown",
      "metadata": {
        "id": "wvA6Py_JiQJu",
        "colab_type": "text"
      },
      "source": [
        "##2. Preparación de las transformaciones"
      ]
    },
    {
      "cell_type": "code",
      "metadata": {
        "id": "UDz1O_DbiOcD",
        "colab_type": "code",
        "colab": {}
      },
      "source": [
        "#Creamos el conjunto de datos para los datos transformados\n",
        "conjuntosTransformados=pd.DataFrame()\n",
        "#Añadimos las columnas de 'Fecha' y 'PrecioDiario' \n",
        "conjuntosTransformados['Fecha']=conjuntoDatos['Fecha']\n",
        "conjuntosTransformados['Precio diario']=conjuntoDatos['PrecioDiario']\n",
        "#Añadimos la columna de la transformación logaritmica \n",
        "conjuntosTransformados['Logaritmo']=np.log(conjuntoDatos['PrecioDiario'])\n",
        "#Añadimos la columna de la transformación raiz cuadrada\n",
        "conjuntosTransformados['Raiz cuadrada']=np.power((conjuntoDatos['PrecioDiario']),(1/2))\n",
        "#Añadimos la columna de la transformación cubica\n",
        "conjuntosTransformados['Raiz cubica']=np.power((conjuntoDatos['PrecioDiario']),(1/3))"
      ],
      "execution_count": 0,
      "outputs": []
    },
    {
      "cell_type": "code",
      "metadata": {
        "id": "OBZF5MM2FHsw",
        "colab_type": "code",
        "outputId": "223c1e28-7fb5-4f23-f0a3-788a22f89fc0",
        "colab": {
          "base_uri": "https://localhost:8080/",
          "height": 458
        }
      },
      "source": [
        "#Graficamos las transofrmaciones con la finalidad de ver sus comportamientos\n",
        "plt.figure(figsize=(20,7))\n",
        "plt.title('Promedio de precios de la energía')\n",
        "plt.ylabel('Precio')\n",
        "plt.xlabel('Año')\n",
        "plt.plot(conjuntosTransformados['Fecha'], conjuntosTransformados['Logaritmo'], color='orange',label=\"Transformación logaritmica del precio promedio de la energía\")\n",
        "plt.plot(conjuntosTransformados['Fecha'], conjuntosTransformados['Raiz cuadrada'], color='gray',label=\"Transformación raiz cuadrada del precio promedio de la energía\")\n",
        "plt.plot(conjuntosTransformados['Fecha'], conjuntosTransformados['Raiz cubica'], color='blue',label=\"Transformación raiz cubica del precio promedio de la energía\")\n",
        "plt.legend()\n",
        "plt.show()"
      ],
      "execution_count": 142,
      "outputs": [
        {
          "output_type": "display_data",
          "data": {
            "image/png": "[encoded data removed]",
            "text/plain": [
              "<Figure size 1440x504 with 1 Axes>"
            ]
          },
          "metadata": {
            "tags": []
          }
        }
      ]
    },
    {
      "cell_type": "markdown",
      "metadata": {
        "id": "DIrLl9j_DR7d",
        "colab_type": "text"
      },
      "source": [
        "De la grafica anterior podemos destacar que la transformación logaritmo presenta valores menores o iguales a cero, lo cual nos puede indicar que la transofrmación será descartada dado que posiblemente pueda incurrir en errores. Para poder concluir y decidir sobre las transformciones se procede a la creación del modelo."
      ]
    },
    {
      "cell_type": "markdown",
      "metadata": {
        "id": "q0KKrdAUKv1w",
        "colab_type": "text"
      },
      "source": [
        "##2. Preparación del modelo y pronostico"
      ]
    },
    {
      "cell_type": "markdown",
      "metadata": {
        "id": "dfkg4RAmK4iL",
        "colab_type": "text"
      },
      "source": [
        "Se prepara el modelo utilizando la implementación de adaline utilizada en la clase, añadiendo **momentum** y la cual contiene **gradiente decendente**"
      ]
    },
    {
      "cell_type": "code",
      "metadata": {
        "id": "n70HSqBoS5VO",
        "colab_type": "code",
        "colab": {}
      },
      "source": [
        "class Adaline:\n",
        "    def __init__(self,\n",
        "                 learning_rate=0.001, # tasa de aprendizaje\n",
        "                 max_epochs=100,      # número máximo de iteraciones sobre el set de datos\n",
        "                 shuffle=False,       # mezcla patrones para aprendizaje online\n",
        "                 random_state=None,   #\n",
        "                 warm_start=False,    #\n",
        "                 momentum=0):         # momentum\n",
        "\n",
        "        self.learning_rate = learning_rate\n",
        "        self.max_epochs = max_epochs\n",
        "        self.shuffle = shuffle\n",
        "        self.random_state = random_state\n",
        "        self.warm_start = warm_start\n",
        "        self.coef_ = None\n",
        "        self.intercept_ = None\n",
        "        self.momentum=momentum\n",
        "\n",
        "    def fit(self, X, y):\n",
        "\n",
        "        if not isinstance(X, np.ndarray):\n",
        "            X = np.array(X)\n",
        "        if not isinstance(y, np.ndarray):\n",
        "            d = np.array(y)\n",
        "        else:\n",
        "            d = y.copy()\n",
        "\n",
        "        if self.random_state is not None:\n",
        "            np.random.RandomState(self.random_state)\n",
        "\n",
        "        if self.coef_ is None or self.warm_start is False:\n",
        "            self.coef_ = np.random.uniform(-1, 1, X.shape[1])\n",
        "\n",
        "        if self.intercept_ is None  or self.warm_start is False:\n",
        "            self.intercept_ = np.random.uniform(-1, 1, 1)\n",
        "\n",
        "        errors2 = []\n",
        "        forecasts = []\n",
        "\n",
        "        for epoch in range(self.max_epochs):\n",
        "\n",
        "            if self.shuffle is True:\n",
        "                n = list(range(X.shape[0]))\n",
        "                np.random.shuffle(n)\n",
        "                X = X[n,:]\n",
        "                d = d[n]\n",
        "\n",
        "            for i in range(X.shape[0]):\n",
        "                u = np.dot(X[i,:], self.coef_) + self.intercept_\n",
        "                e = (d[i] - u)[0]\n",
        "                self.coef_ += 2 * self.learning_rate * e * X[i,:]+(self.momentum*self.coef_) #Se añade el momentum\n",
        "                self.intercept_ += 2 * self.learning_rate * e+(self.momentum*self.intercept_) #Se añade el momentum\n",
        "                errors2.append(e**2)\n",
        "                forecasts.append(u)\n",
        "\n",
        "        return errors2, forecasts\n",
        "\n",
        "    def predict(self, X):\n",
        "        if not isinstance(X, np.ndarray):\n",
        "            X = np.array(X)\n",
        "        u = np.dot(X, self.coef_) + self.intercept_\n",
        "        return u"
      ],
      "execution_count": 0,
      "outputs": []
    },
    {
      "cell_type": "code",
      "metadata": {
        "id": "wpyXA5ckh2S3",
        "colab_type": "code",
        "colab": {}
      },
      "source": [
        "#Creamos una lista auxiliar con el nombre de las columnas del conjunto de dato que contiene las\n",
        "#transformaciones para hacer mas fácil su manipulación\n",
        "datosTransformados=['Precio diario','Logaritmo','Raiz cuadrada','Raiz cubica']"
      ],
      "execution_count": 0,
      "outputs": []
    },
    {
      "cell_type": "markdown",
      "metadata": {
        "id": "O0QOb8Eep8T8",
        "colab_type": "text"
      },
      "source": [
        "Encontramos el modelo optimo junto con los rezagos, la tasa de aprendizaje y el momentum que mejor desempeño aporten"
      ]
    },
    {
      "cell_type": "code",
      "metadata": {
        "id": "ywcHHLteMpTs",
        "colab_type": "code",
        "colab": {}
      },
      "source": [
        "#Rango de los rezagos\n",
        "Ls=range(7,13)\n",
        "\n",
        "#Partición de datos para comparar las predicciones, para lo cual se usan los utlimos 7 registros\n",
        "n = conjuntosTransformados['Precio diario'].size\n",
        "partePrediccion = conjuntosTransformados.iloc[(n - 7):]['Precio diario']\n",
        "\n",
        "#Se crea el dataframe de todos los posibles modelos\n",
        "posiblesModelos = pd.DataFrame(columns = [\"Modelo\",\"Error de pronostico\",\"Error de entrenamiento\",\"Rezagos/L\",\"Momentum\",\"Tasa de aprendizaje\"])\n",
        "\n",
        "#Iteramos para cada una de las transformaciones y el modelo base con la finalidad de encontrar cual se adapta mejor\n",
        "for transformacion in datosTransformados:\n",
        "    #Realizamos el escalamiento de los datos\n",
        "    escalado = MinMaxScaler()\n",
        "    d=np.asarray(conjuntosTransformados[transformacion]).reshape(-1,1)\n",
        "    escalado.fit(d)\n",
        "    d=escalado.transform(d).ravel()\n",
        "\n",
        "    #Iteramos sobre los posibles rezagos definidos anteriormente para encontrar el mas optimo\n",
        "    for L in Ls:\n",
        "      #Iteramos sobre la tasa de aprendizaje con la finalidad de buscar el mas optimo\n",
        "        for tasaAprendizaje in np.arange(0.005, 0.1, 0.005):\n",
        "          #Iteramos sobre los posibles valores del momentum con el fin de encontrar el mas optimo para nuestro modelo\n",
        "            for momentum in np.arange(0.00000, 0.0001,0.00005):#Se utilizan valores bajos dado que haciendo tanteo fueron los que mejor resultado dieron\n",
        "                \n",
        "                #Se usa la implementación adaline definido anteriormente\n",
        "                X = []\n",
        "                for t in range(L,len(d)):\n",
        "                    X.append(d[t-L:t].copy())\n",
        "                adaline = Adaline(\n",
        "                    learning_rate=tasaAprendizaje, # tasa de aprendizaje\n",
        "                    max_epochs=1,                  # número máximo de iteraciones sobre el set de datos\n",
        "                    shuffle=False,                 # mezcla patrones para aprendizaje online\n",
        "                    random_state=123,              # corrida reproducible\n",
        "                    warm_start=False,              # inicia con pesos aleatorios\n",
        "                    momentum = momentum)           #Momentum  \n",
        "                errors2, forecasts = adaline.fit(\n",
        "                    X, \n",
        "                    d[L:])\n",
        "                \n",
        "                #Se realiza el pronostico de los siguientes 7 días\n",
        "                Pronosticados = []\n",
        "                for i in range(0,7):\n",
        "                    nuevaPrediccion = adaline.predict(X[-1])\n",
        "                    proximo = np.append(X[-1][1:L], [nuevaPrediccion])\n",
        "                    X = np.concatenate( ( X, [proximo] ), axis=0) \n",
        "                    Pronosticados.append(nuevaPrediccion[0])\n",
        "\n",
        "                #Invertimos el escalamiento de datos para volver a los iniciales\n",
        "                Pronosticados = escalado.inverse_transform(np.asarray(Pronosticados).reshape(-1,1)).ravel() \n",
        "                forecasts = escalado.inverse_transform(np.asarray(forecasts).reshape(-1,1)).ravel()\n",
        "\n",
        "                #Realizamos la transformación inversa para tener congruencia con los datos originales\n",
        "                if transformacion=='Logaritmo':\n",
        "                    Pronosticados = np.exp(Pronosticados)  \n",
        "                    forecasts = np.exp(forecasts)\n",
        "                elif transformacion=='Raiz Cuadrada':\n",
        "                    Pronosticados = np.power(Pronosticados,2)  \n",
        "                    forecasts = np.power(forecasts,2)\n",
        "                elif transformacion=='Raiz cubica':\n",
        "                    Pronosticados = np.power(Pronosticados,3)  \n",
        "                    forecasts = np.power(forecasts,3)\n",
        "\n",
        "                #Encontramos el error de pronostico y el error de entrenamiento\n",
        "                errorPronostico = np.sum(np.power(np.array(partePrediccion) - Pronosticados, 2))   \n",
        "                sumaErrores = np.sum(errors2)\n",
        "                \n",
        "                #Guardamos los datos del modelo\n",
        "                posiblesModelos = posiblesModelos.append({\n",
        "                    \"Modelo\": transformacion,\n",
        "                    \"Error de pronostico\": errorPronostico,\n",
        "                    \"Error de entrenamiento\": sumaErrores,\n",
        "                    \"Rezagos/L\": L,\n",
        "                    \"Momentum\": momentum,\n",
        "                    \"Tasa de aprendizaje\": tasaAprendizaje\n",
        "                },ignore_index=True)"
      ],
      "execution_count": 0,
      "outputs": []
    },
    {
      "cell_type": "code",
      "metadata": {
        "id": "5LIiUfOsRjTo",
        "colab_type": "code",
        "outputId": "199bb890-14e6-4c2f-e0d6-577968fece2b",
        "colab": {
          "base_uri": "https://localhost:8080/",
          "height": 80
        }
      },
      "source": [
        "#Seleccionamos el modelo con menor error de entrenamiento\n",
        "mejorModelo = posiblesModelos[posiblesModelos['Error de entrenamiento'] == min(posiblesModelos['Error de entrenamiento'])] \n",
        "#Mostramos el mejor modelo\n",
        "mejorModelo"
      ],
      "execution_count": 151,
      "outputs": [
        {
          "output_type": "execute_result",
          "data": {
            "text/html": [
              "<div>\n",
              "<style scoped>\n",
              "    .dataframe tbody tr th:only-of-type {\n",
              "        vertical-align: middle;\n",
              "    }\n",
              "\n",
              "    .dataframe tbody tr th {\n",
              "        vertical-align: top;\n",
              "    }\n",
              "\n",
              "    .dataframe thead th {\n",
              "        text-align: right;\n",
              "    }\n",
              "</style>\n",
              "<table border=\"1\" class=\"dataframe\">\n",
              "  <thead>\n",
              "    <tr style=\"text-align: right;\">\n",
              "      <th></th>\n",
              "      <th>Modelo</th>\n",
              "      <th>Error de pronostico</th>\n",
              "      <th>Error de entrenamiento</th>\n",
              "      <th>Rezagos/L</th>\n",
              "      <th>Momentum</th>\n",
              "      <th>Tasa de aprendizaje</th>\n",
              "    </tr>\n",
              "  </thead>\n",
              "  <tbody>\n",
              "    <tr>\n",
              "      <th>74</th>\n",
              "      <td>Precio diario</td>\n",
              "      <td>89.781787</td>\n",
              "      <td>3.033316</td>\n",
              "      <td>8</td>\n",
              "      <td>0.0</td>\n",
              "      <td>0.095</td>\n",
              "    </tr>\n",
              "  </tbody>\n",
              "</table>\n",
              "</div>"
            ],
            "text/plain": [
              "           Modelo  Error de pronostico  ...  Momentum Tasa de aprendizaje\n",
              "74  Precio diario            89.781787  ...       0.0               0.095\n",
              "\n",
              "[1 rows x 6 columns]"
            ]
          },
          "metadata": {
            "tags": []
          },
          "execution_count": 151
        }
      ]
    },
    {
      "cell_type": "markdown",
      "metadata": {
        "id": "dmF4JavXgxtK",
        "colab_type": "text"
      },
      "source": [
        "Graficamos el mejor modelo junto con el adaline para comprobar que se adapte correctamente, adicionalmente utilizamos los rezagos, el momentum y la tasa de aprendizaje optimas encontradas en el algoritmo anterior."
      ]
    },
    {
      "cell_type": "code",
      "metadata": {
        "id": "6w4LhJ6ez4iK",
        "colab_type": "code",
        "outputId": "1442b1ae-60de-45d3-cac9-16cc63df0c03",
        "colab": {
          "base_uri": "https://localhost:8080/",
          "height": 444
        }
      },
      "source": [
        "#Realizamos el escalamiento de los datos\n",
        "escalado = MinMaxScaler()\n",
        "d=np.asarray(conjuntosTransformados['Precio diario']).reshape(-1,1)\n",
        "escalado.fit(d)\n",
        "d=escalado.transform(d).ravel()\n",
        "L=mejorModelo['Rezagos/L'].values[0]\n",
        "X = []\n",
        "for t in range(L, len(d)):\n",
        "  X.append(d[t-L:t].copy())\n",
        "\n",
        "#creamos el adaline\n",
        "adaline = Adaline(\n",
        "  learning_rate=mejorModelo['Tasa de aprendizaje'].values[0],  # tasa de aprendizaje\n",
        "  max_epochs=1,        # número máximo de iteraciones sobre el set de datos\n",
        "  shuffle=False,       # mezcla patrones para aprendizaje online\n",
        "  random_state=123,    # corrida reproducible\n",
        "  warm_start=False,    # inicia con pesos aleatorios\n",
        "  momentum=mejorModelo['Momentum'].values[0])          #Momentum\n",
        "  \n",
        "#entrenamos el modelo \n",
        "errors2, forecasts = adaline.fit(\n",
        "  X,\n",
        "d[L:])\n",
        "\n",
        "  \n",
        "#Invertimos el escalado de las predcciones\n",
        "forecasts=escalado.inverse_transform(np.asarray(forecasts).reshape(-1,1)).ravel()\n",
        "    \n",
        "#Graficamos de cada transformación y el respectivo conjunto de predicciones, para\n",
        "#Visualizar el comportamiento del modelo\n",
        "plt.figure(figsize=(20,7))\n",
        "plt.title(transformacion)\n",
        "plt.plot(conjuntosTransformados['Precio diario'], color='red');\n",
        "plt.plot(range(L,len(d)), forecasts, color = 'blue');"
      ],
      "execution_count": 152,
      "outputs": [
        {
          "output_type": "display_data",
          "data": {
            "image/png": "[encoded data removed]",
            "text/plain": [
              "<Figure size 1440x504 with 1 Axes>"
            ]
          },
          "metadata": {
            "tags": []
          }
        }
      ]
    },
    {
      "cell_type": "markdown",
      "metadata": {
        "id": "60OCVoy4iZw0",
        "colab_type": "text"
      },
      "source": [
        "Hallamos el pronostico de los siguientes 7 días"
      ]
    },
    {
      "cell_type": "code",
      "metadata": {
        "id": "ax4MRQhriXLa",
        "colab_type": "code",
        "colab": {}
      },
      "source": [
        "#Encontramos el pronostico para los siguientes 7 días\n",
        "pronostico7Dias=[]\n",
        "for proximoPronostico in range(0,7):\n",
        "    Pronostico = adaline.predict(X[-1]) \n",
        "    proximo = np.append(X[-1][1:L], [Pronostico]) \n",
        "    X = np.concatenate( ( X, [proximo] ), axis=0)\n",
        "    pronostico7Dias.append(Pronostico[0])\n",
        "pronostico7Dias=escalado.inverse_transform(np.asarray(pronostico7Dias).reshape(-1,1)).ravel()"
      ],
      "execution_count": 0,
      "outputs": []
    },
    {
      "cell_type": "markdown",
      "metadata": {
        "id": "lzXnN3utonSL",
        "colab_type": "text"
      },
      "source": [
        "Finalmente revertimos la normalización del IPC y encontramos el pronostico actual"
      ]
    },
    {
      "cell_type": "code",
      "metadata": {
        "id": "WEckJfF_lWSc",
        "colab_type": "code",
        "colab": {
          "base_uri": "https://localhost:8080/",
          "height": 266
        },
        "outputId": "8086650c-3168-4fc7-df0b-d49717d148eb"
      },
      "source": [
        "pronosticoFinal=pd.DataFrame()\n",
        "pronosticoFinal['Precio']=pronostico7Dias*(max(conjuntoDatos['Indice'])/IPCbase)\n",
        "pronosticoFinal"
      ],
      "execution_count": 154,
      "outputs": [
        {
          "output_type": "execute_result",
          "data": {
            "text/html": [
              "<div>\n",
              "<style scoped>\n",
              "    .dataframe tbody tr th:only-of-type {\n",
              "        vertical-align: middle;\n",
              "    }\n",
              "\n",
              "    .dataframe tbody tr th {\n",
              "        vertical-align: top;\n",
              "    }\n",
              "\n",
              "    .dataframe thead th {\n",
              "        text-align: right;\n",
              "    }\n",
              "</style>\n",
              "<table border=\"1\" class=\"dataframe\">\n",
              "  <thead>\n",
              "    <tr style=\"text-align: right;\">\n",
              "      <th></th>\n",
              "      <th>Precio</th>\n",
              "    </tr>\n",
              "  </thead>\n",
              "  <tbody>\n",
              "    <tr>\n",
              "      <th>0</th>\n",
              "      <td>69.155879</td>\n",
              "    </tr>\n",
              "    <tr>\n",
              "      <th>1</th>\n",
              "      <td>89.993169</td>\n",
              "    </tr>\n",
              "    <tr>\n",
              "      <th>2</th>\n",
              "      <td>100.470839</td>\n",
              "    </tr>\n",
              "    <tr>\n",
              "      <th>3</th>\n",
              "      <td>90.317152</td>\n",
              "    </tr>\n",
              "    <tr>\n",
              "      <th>4</th>\n",
              "      <td>107.342685</td>\n",
              "    </tr>\n",
              "    <tr>\n",
              "      <th>5</th>\n",
              "      <td>127.497316</td>\n",
              "    </tr>\n",
              "    <tr>\n",
              "      <th>6</th>\n",
              "      <td>134.571657</td>\n",
              "    </tr>\n",
              "  </tbody>\n",
              "</table>\n",
              "</div>"
            ],
            "text/plain": [
              "       Precio\n",
              "0   69.155879\n",
              "1   89.993169\n",
              "2  100.470839\n",
              "3   90.317152\n",
              "4  107.342685\n",
              "5  127.497316\n",
              "6  134.571657"
            ]
          },
          "metadata": {
            "tags": []
          },
          "execution_count": 154
        }
      ]
    }
  ]
}