{
  "nbformat": 4,
  "nbformat_minor": 0,
  "metadata": {
    "colab": {
      "name": "03-spam.ipynb",
      "provenance": []
    },
    "kernelspec": {
      "display_name": "Python 3",
      "language": "python",
      "name": "python3"
    },
    "language_info": {
      "codemirror_mode": {
        "name": "ipython",
        "version": 3
      },
      "file_extension": ".py",
      "mimetype": "text/x-python",
      "name": "python",
      "nbconvert_exporter": "python",
      "pygments_lexer": "ipython3",
      "version": "3.6.7"
    }
  },
  "cells": [
    {
      "cell_type": "markdown",
      "metadata": {
        "id": "3rEuO5Pixfdu",
        "colab_type": "text"
      },
      "source": [
        "# Filtado de mensajes spam"
      ]
    },
    {
      "cell_type": "markdown",
      "metadata": {
        "id": "V4p3dx4yxdyv",
        "colab_type": "text"
      },
      "source": [
        "## Descripción del problema real"
      ]
    },
    {
      "cell_type": "markdown",
      "metadata": {
        "id": "wVX57Gklxdyx",
        "colab_type": "text"
      },
      "source": [
        "La recepción de publicidad no deseada a traves mensajes de texto usando SMS (Short Message Service) es un problema que afecta a muchos usuarios de teléfonos móviles. El problema radica en que los usuarios deben pagar por los mesajes recibidos, y por este motivo resulta muy importante que las compañías prestadoras del servicio puedan filtrar mensajes indeseados antes de enviarlos a su destinatario final. Los mensajes tienen una longitud máxima de 160 caracteres, por lo que el texto resulta poco para realizar la clasificación, en comparación con textos más largos (como los emails). Adicionalmente, los errores de digitación dificultan el proceso de detección automática."
      ]
    },
    {
      "cell_type": "markdown",
      "metadata": {
        "id": "xnTOa-ZTxdyz",
        "colab_type": "text"
      },
      "source": [
        "## Descripción del problema en términos de los datos"
      ]
    },
    {
      "cell_type": "markdown",
      "metadata": {
        "id": "hiFirMbBxdy1",
        "colab_type": "text"
      },
      "source": [
        "Se tiene una muestra contiene 5574 mensajes en inglés, no codificados y clasificados como legítimos (ham) o spam (http://www.dt.fee.unicamp.br/~tiago/smsspamcollection/). La información está almacenada en el archivo `datos/spam-sms.zip`.El problema en términos de los datos consiste en clasificar si un mensaje SMS es legítico o spam, a partir del análisis de las palabras que contiente, partiendo del supuesto de que ciertas palabras que son más frecuentes dependiendo del tipo de mensaje. Esto implica que en la fase de preparación de los datos se deben extraer las palabras que contiene cada mensaje para poder realizar el análsis."
      ]
    },
    {
      "cell_type": "markdown",
      "metadata": {
        "id": "_-vdYzmNxdy4",
        "colab_type": "text"
      },
      "source": [
        "## Aproximaciones posibles"
      ]
    },
    {
      "cell_type": "markdown",
      "metadata": {
        "id": "ayUfukkuxdy6",
        "colab_type": "text"
      },
      "source": [
        "En este caso, se desea comparar los resultados de un modelo de redes neuronales artificiales y otras técnicas estadísticas para realizar la clasificación."
      ]
    },
    {
      "cell_type": "markdown",
      "metadata": {
        "id": "c2GiRBAwxdy7",
        "colab_type": "text"
      },
      "source": [
        "## Requerimientos"
      ]
    },
    {
      "cell_type": "markdown",
      "metadata": {
        "id": "bRhi1ZVzxdy9",
        "colab_type": "text"
      },
      "source": [
        "Usted debe:\n",
        "\n",
        "* Preprocesar los datos para representarlos usando bag-of-words. **Listo**\n",
        "\n",
        "\n",
        "* Construir un modelo de regresión logística como punto base para la comparación con otros modelos más complejos. **Listo**\n",
        "\n",
        "\n",
        "* Construir un modelo de redes neuronales artificiales. Asimismo, debe determinar el número de neuronas en la capa o capas ocultas. **Listo**\n",
        "\n",
        "\n",
        "* Utiizar una técnica como crossvalidation u otra similar para establecer la robustez del modelo. **Listo**\n",
        "\n",
        "\n",
        "* Presentar métricas de desempeño para establecer las bondades y falencias de cada clasificador. **Listo**"
      ]
    },
    {
      "cell_type": "markdown",
      "metadata": {
        "id": "ukzMAIwB1RbL",
        "colab_type": "text"
      },
      "source": [
        "##1. Procesamiento de datos"
      ]
    },
    {
      "cell_type": "markdown",
      "metadata": {
        "id": "bgDpCfFW1ZvS",
        "colab_type": "text"
      },
      "source": [
        "####Cargamos las librerias"
      ]
    },
    {
      "cell_type": "code",
      "metadata": {
        "id": "afRfov4U1cWC",
        "colab_type": "code",
        "colab": {}
      },
      "source": [
        "import pandas as pd\n",
        "from nltk.stem.porter import PorterStemmer\n",
        "from sklearn.feature_extraction.text import CountVectorizer\n",
        "from sklearn.model_selection import train_test_split,cross_val_score\n",
        "from sklearn.linear_model import LogisticRegression\n",
        "from sklearn.metrics import confusion_matrix,plot_confusion_matrix\n",
        "from sklearn.neural_network import MLPClassifier"
      ],
      "execution_count": 0,
      "outputs": []
    },
    {
      "cell_type": "markdown",
      "metadata": {
        "id": "R_jjPUEB32nl",
        "colab_type": "text"
      },
      "source": [
        "####Creamos el conjunto de datos con base al ejemplo del profesor que se presenta en el siguiente link\n"
      ]
    },
    {
      "cell_type": "markdown",
      "metadata": {
        "id": "jC8CV8d84yH0",
        "colab_type": "text"
      },
      "source": [
        "\n",
        "\n",
        ">###### https://jdvelasq.github.io/courses/notebooks/sklearn/bayes/02-filtrado-de-mensajes-sms.html?highlight=stemmer\n",
        "\n",
        "\n"
      ]
    },
    {
      "cell_type": "code",
      "metadata": {
        "id": "P3qTDxd43qKm",
        "colab_type": "code",
        "outputId": "765e2804-ddde-4634-b000-0952e0850d43",
        "colab": {
          "base_uri": "https://localhost:8080/",
          "height": 204
        }
      },
      "source": [
        "#Leemos el conjunto de datos\n",
        "conjuntoDatos = pd.read_csv(\n",
        "    \"https://raw.githubusercontent.com/jdvelasq/datalabs/master/datasets/sms-spam.csv\",\n",
        "    sep = ',',\n",
        "    thousands = None,\n",
        "    decimal = '.',\n",
        "    encoding='latin-1')\n",
        "\n",
        "#mostramos la cabecera para comprobar que los datos se cargaron correctamente\n",
        "conjuntoDatos.head()"
      ],
      "execution_count": 132,
      "outputs": [
        {
          "output_type": "execute_result",
          "data": {
            "text/html": [
              "<div>\n",
              "<style scoped>\n",
              "    .dataframe tbody tr th:only-of-type {\n",
              "        vertical-align: middle;\n",
              "    }\n",
              "\n",
              "    .dataframe tbody tr th {\n",
              "        vertical-align: top;\n",
              "    }\n",
              "\n",
              "    .dataframe thead th {\n",
              "        text-align: right;\n",
              "    }\n",
              "</style>\n",
              "<table border=\"1\" class=\"dataframe\">\n",
              "  <thead>\n",
              "    <tr style=\"text-align: right;\">\n",
              "      <th></th>\n",
              "      <th>type</th>\n",
              "      <th>text</th>\n",
              "    </tr>\n",
              "  </thead>\n",
              "  <tbody>\n",
              "    <tr>\n",
              "      <th>0</th>\n",
              "      <td>ham</td>\n",
              "      <td>Go until jurong point, crazy.. Available only ...</td>\n",
              "    </tr>\n",
              "    <tr>\n",
              "      <th>1</th>\n",
              "      <td>ham</td>\n",
              "      <td>Ok lar... Joking wif u oni...</td>\n",
              "    </tr>\n",
              "    <tr>\n",
              "      <th>2</th>\n",
              "      <td>spam</td>\n",
              "      <td>Free entry in 2 a wkly comp to win FA Cup fina...</td>\n",
              "    </tr>\n",
              "    <tr>\n",
              "      <th>3</th>\n",
              "      <td>ham</td>\n",
              "      <td>U dun say so early hor... U c already then say...</td>\n",
              "    </tr>\n",
              "    <tr>\n",
              "      <th>4</th>\n",
              "      <td>ham</td>\n",
              "      <td>Nah I don't think he goes to usf, he lives aro...</td>\n",
              "    </tr>\n",
              "  </tbody>\n",
              "</table>\n",
              "</div>"
            ],
            "text/plain": [
              "   type                                               text\n",
              "0   ham  Go until jurong point, crazy.. Available only ...\n",
              "1   ham                      Ok lar... Joking wif u oni...\n",
              "2  spam  Free entry in 2 a wkly comp to win FA Cup fina...\n",
              "3   ham  U dun say so early hor... U c already then say...\n",
              "4   ham  Nah I don't think he goes to usf, he lives aro..."
            ]
          },
          "metadata": {
            "tags": []
          },
          "execution_count": 132
        }
      ]
    },
    {
      "cell_type": "code",
      "metadata": {
        "id": "qlNi54046qM5",
        "colab_type": "code",
        "outputId": "00022b93-d361-412c-869f-5e92098f4806",
        "colab": {
          "base_uri": "https://localhost:8080/",
          "height": 173
        }
      },
      "source": [
        "#Mostramos la descripción del conjunto de datos\n",
        "conjuntoDatos.describe()"
      ],
      "execution_count": 133,
      "outputs": [
        {
          "output_type": "execute_result",
          "data": {
            "text/html": [
              "<div>\n",
              "<style scoped>\n",
              "    .dataframe tbody tr th:only-of-type {\n",
              "        vertical-align: middle;\n",
              "    }\n",
              "\n",
              "    .dataframe tbody tr th {\n",
              "        vertical-align: top;\n",
              "    }\n",
              "\n",
              "    .dataframe thead th {\n",
              "        text-align: right;\n",
              "    }\n",
              "</style>\n",
              "<table border=\"1\" class=\"dataframe\">\n",
              "  <thead>\n",
              "    <tr style=\"text-align: right;\">\n",
              "      <th></th>\n",
              "      <th>type</th>\n",
              "      <th>text</th>\n",
              "    </tr>\n",
              "  </thead>\n",
              "  <tbody>\n",
              "    <tr>\n",
              "      <th>count</th>\n",
              "      <td>5574</td>\n",
              "      <td>5574</td>\n",
              "    </tr>\n",
              "    <tr>\n",
              "      <th>unique</th>\n",
              "      <td>2</td>\n",
              "      <td>5160</td>\n",
              "    </tr>\n",
              "    <tr>\n",
              "      <th>top</th>\n",
              "      <td>ham</td>\n",
              "      <td>Sorry, I'll call later</td>\n",
              "    </tr>\n",
              "    <tr>\n",
              "      <th>freq</th>\n",
              "      <td>4827</td>\n",
              "      <td>30</td>\n",
              "    </tr>\n",
              "  </tbody>\n",
              "</table>\n",
              "</div>"
            ],
            "text/plain": [
              "        type                    text\n",
              "count   5574                    5574\n",
              "unique     2                    5160\n",
              "top      ham  Sorry, I'll call later\n",
              "freq    4827                      30"
            ]
          },
          "metadata": {
            "tags": []
          },
          "execution_count": 133
        }
      ]
    },
    {
      "cell_type": "markdown",
      "metadata": {
        "id": "vx5CXx998Twe",
        "colab_type": "text"
      },
      "source": [
        "####Mostramos cuantos mensajes hay por cada clasificación (ham o spam) con la intención de observar como se comportan los datos."
      ]
    },
    {
      "cell_type": "code",
      "metadata": {
        "id": "Icld73FT80Yp",
        "colab_type": "code",
        "outputId": "936d42ee-4970-47fe-de23-844b4cbda890",
        "colab": {
          "base_uri": "https://localhost:8080/",
          "height": 68
        }
      },
      "source": [
        "conjuntoDatos.type.value_counts()"
      ],
      "execution_count": 134,
      "outputs": [
        {
          "output_type": "execute_result",
          "data": {
            "text/plain": [
              "ham     4827\n",
              "spam     747\n",
              "Name: type, dtype: int64"
            ]
          },
          "metadata": {
            "tags": []
          },
          "execution_count": 134
        }
      ]
    },
    {
      "cell_type": "markdown",
      "metadata": {
        "id": "j26VsBTf87tu",
        "colab_type": "text"
      },
      "source": [
        "Posteriormente graficamos el conteo de los datos"
      ]
    },
    {
      "cell_type": "code",
      "metadata": {
        "id": "Lk8ubPzD9CgV",
        "colab_type": "code",
        "outputId": "6159c7a3-357f-4e00-81ac-89be6a815de1",
        "colab": {
          "base_uri": "https://localhost:8080/",
          "height": 284
        }
      },
      "source": [
        "conjuntoDatos.type.value_counts().plot.bar();"
      ],
      "execution_count": 135,
      "outputs": [
        {
          "output_type": "display_data",
          "data": {
            "image/png": "[encoded data removed]",
            "text/plain": [
              "<Figure size 432x288 with 1 Axes>"
            ]
          },
          "metadata": {
            "tags": []
          }
        }
      ]
    },
    {
      "cell_type": "markdown",
      "metadata": {
        "id": "SYTfnrmE9Qcl",
        "colab_type": "text"
      },
      "source": [
        "Del grafico podemos observar que la mayor parte de los mensajes pertenecen a la categoría ham"
      ]
    },
    {
      "cell_type": "markdown",
      "metadata": {
        "id": "C6IBOOjb9_1Y",
        "colab_type": "text"
      },
      "source": [
        "####Usamos la función Stemmer para transformar las palabras a su forma mas general"
      ]
    },
    {
      "cell_type": "code",
      "metadata": {
        "id": "3m3n2vI5-QdC",
        "colab_type": "code",
        "outputId": "8999d4c4-dc30-44f3-ded9-53082e83c126",
        "colab": {
          "base_uri": "https://localhost:8080/",
          "height": 204
        }
      },
      "source": [
        "#Creamos el stemmer\n",
        "stemmer = PorterStemmer()\n",
        "\n",
        "#Aplicamos el stemmer al conjunto de datos y guardamos sus resultados en una nueva columna\n",
        "conjuntoDatos['stemmed'] = conjuntoDatos.text.apply(lambda x: ' '.join([stemmer.stem(palabra) for palabra in x.split() ]))\n",
        "\n",
        "#Para comprobar el resultado mostramos el conjunto de datos\n",
        "conjuntoDatos.head(5)"
      ],
      "execution_count": 136,
      "outputs": [
        {
          "output_type": "execute_result",
          "data": {
            "text/html": [
              "<div>\n",
              "<style scoped>\n",
              "    .dataframe tbody tr th:only-of-type {\n",
              "        vertical-align: middle;\n",
              "    }\n",
              "\n",
              "    .dataframe tbody tr th {\n",
              "        vertical-align: top;\n",
              "    }\n",
              "\n",
              "    .dataframe thead th {\n",
              "        text-align: right;\n",
              "    }\n",
              "</style>\n",
              "<table border=\"1\" class=\"dataframe\">\n",
              "  <thead>\n",
              "    <tr style=\"text-align: right;\">\n",
              "      <th></th>\n",
              "      <th>type</th>\n",
              "      <th>text</th>\n",
              "      <th>stemmed</th>\n",
              "    </tr>\n",
              "  </thead>\n",
              "  <tbody>\n",
              "    <tr>\n",
              "      <th>0</th>\n",
              "      <td>ham</td>\n",
              "      <td>Go until jurong point, crazy.. Available only ...</td>\n",
              "      <td>Go until jurong point, crazy.. avail onli in b...</td>\n",
              "    </tr>\n",
              "    <tr>\n",
              "      <th>1</th>\n",
              "      <td>ham</td>\n",
              "      <td>Ok lar... Joking wif u oni...</td>\n",
              "      <td>Ok lar... joke wif u oni...</td>\n",
              "    </tr>\n",
              "    <tr>\n",
              "      <th>2</th>\n",
              "      <td>spam</td>\n",
              "      <td>Free entry in 2 a wkly comp to win FA Cup fina...</td>\n",
              "      <td>free entri in 2 a wkli comp to win FA cup fina...</td>\n",
              "    </tr>\n",
              "    <tr>\n",
              "      <th>3</th>\n",
              "      <td>ham</td>\n",
              "      <td>U dun say so early hor... U c already then say...</td>\n",
              "      <td>U dun say so earli hor... U c alreadi then say...</td>\n",
              "    </tr>\n",
              "    <tr>\n",
              "      <th>4</th>\n",
              "      <td>ham</td>\n",
              "      <td>Nah I don't think he goes to usf, he lives aro...</td>\n",
              "      <td>nah I don't think he goe to usf, he live aroun...</td>\n",
              "    </tr>\n",
              "  </tbody>\n",
              "</table>\n",
              "</div>"
            ],
            "text/plain": [
              "   type  ...                                            stemmed\n",
              "0   ham  ...  Go until jurong point, crazy.. avail onli in b...\n",
              "1   ham  ...                        Ok lar... joke wif u oni...\n",
              "2  spam  ...  free entri in 2 a wkli comp to win FA cup fina...\n",
              "3   ham  ...  U dun say so earli hor... U c alreadi then say...\n",
              "4   ham  ...  nah I don't think he goe to usf, he live aroun...\n",
              "\n",
              "[5 rows x 3 columns]"
            ]
          },
          "metadata": {
            "tags": []
          },
          "execution_count": 136
        }
      ]
    },
    {
      "cell_type": "markdown",
      "metadata": {
        "id": "tBCzAe8c_PZa",
        "colab_type": "text"
      },
      "source": [
        "####Creamos la matriz de terminos del documento"
      ]
    },
    {
      "cell_type": "code",
      "metadata": {
        "id": "fPPZOuXR_gnf",
        "colab_type": "code",
        "outputId": "f513cd60-c5e9-41e6-ab44-d234ce69fe5a",
        "colab": {
          "base_uri": "https://localhost:8080/",
          "height": 34
        }
      },
      "source": [
        "#Creamos la matriz de terminos del documento\n",
        "count_vect = CountVectorizer(\n",
        "    analyzer='word',        # a nivel de palabra\n",
        "    lowercase=True,         # convierte a minúsculas\n",
        "    stop_words='english',   # stop_words en inglés\n",
        "    binary=True,            # Los valores distintos de cero son fijados en 1\n",
        "    min_df=5)               # ignora palabras con baja freq\n",
        "\n",
        "#Aplicamos la función al conjunto de datos\n",
        "dtm = count_vect.fit_transform(conjuntoDatos.stemmed)\n",
        "\n",
        "#Las filas contienen los mensajes\n",
        "#y las clomunas los términos\n",
        "dtm.shape"
      ],
      "execution_count": 137,
      "outputs": [
        {
          "output_type": "execute_result",
          "data": {
            "text/plain": [
              "(5574, 1540)"
            ]
          },
          "metadata": {
            "tags": []
          },
          "execution_count": 137
        }
      ]
    },
    {
      "cell_type": "code",
      "metadata": {
        "id": "_Q2dwHNBAVUU",
        "colab_type": "code",
        "outputId": "d0f4e40e-8a28-439e-f523-021e49ba4969",
        "colab": {
          "base_uri": "https://localhost:8080/",
          "height": 34
        }
      },
      "source": [
        "#Palabras aprendidas de los mensajes de texto\n",
        "vocabulario = count_vect.get_feature_names()\n",
        "len(vocabulario)"
      ],
      "execution_count": 138,
      "outputs": [
        {
          "output_type": "execute_result",
          "data": {
            "text/plain": [
              "1540"
            ]
          },
          "metadata": {
            "tags": []
          },
          "execution_count": 138
        }
      ]
    },
    {
      "cell_type": "code",
      "metadata": {
        "id": "gzQIWgsTA9s_",
        "colab_type": "code",
        "outputId": "a89e7f7d-0bc2-444d-d1de-ea375b3c5521",
        "colab": {
          "base_uri": "https://localhost:8080/",
          "height": 34
        }
      },
      "source": [
        "# Mostramos algunas de las palabras aprendidas de los mensajes de texto\n",
        "vocabulario[995:1000]"
      ],
      "execution_count": 139,
      "outputs": [
        {
          "output_type": "execute_result",
          "data": {
            "text/plain": [
              "['park', 'parti', 'partner', 'pass', 'passion']"
            ]
          },
          "metadata": {
            "tags": []
          },
          "execution_count": 139
        }
      ]
    },
    {
      "cell_type": "markdown",
      "metadata": {
        "id": "PExrNYkpEMBE",
        "colab_type": "text"
      },
      "source": [
        "####Recuperamos los mensajes transformados y mostramos la comparación con los originales"
      ]
    },
    {
      "cell_type": "code",
      "metadata": {
        "id": "KVaeLnv6ECem",
        "colab_type": "code",
        "outputId": "dd9c15e8-3362-4f62-d900-99cbaeb6cc6d",
        "colab": {
          "base_uri": "https://localhost:8080/",
          "height": 221
        }
      },
      "source": [
        "# Recupera los mensajes de la dtm\n",
        "def dtm2words(dtm, vocabulary, index):\n",
        "    as_list = dtm[index,:].toarray().tolist()\n",
        "    docs = []\n",
        "    for i in index:\n",
        "        k = [vocabulary[iword] for iword, ifreq in enumerate(as_list[i]) if ifreq > 0]\n",
        "        docs += [k]\n",
        "    return docs\n",
        "\n",
        "#Mostramos los cuatro mensajes de la dtm junto al original para notar la comparación\n",
        "for i, x in enumerate(dtm2words(dtm, vocabulario, [0, 1, 2, 3])):\n",
        "    print('Org: ', conjuntoDatos.text[i])\n",
        "    print('Mod: ', ' '.join(x))\n",
        "    print('')"
      ],
      "execution_count": 140,
      "outputs": [
        {
          "output_type": "stream",
          "text": [
            "Org:  Go until jurong point, crazy.. Available only in bugis n great world la e buffet... Cine there got amore wat...\n",
            "Mod:  avail bugi cine got great la onli point wat world\n",
            "\n",
            "Org:  Ok lar... Joking wif u oni...\n",
            "Mod:  joke lar ok wif\n",
            "\n",
            "Org:  Free entry in 2 a wkly comp to win FA Cup final tkts 21st May 2005. Text FA to 87121 to receive entry question(std txt rate)T&C's apply 08452810075over18's\n",
            "Mod:  appli comp cup entri final free question rate receiv std text txt win wkli\n",
            "\n",
            "Org:  U dun say so early hor... U c already then say...\n",
            "Mod:  alreadi dun earli say\n",
            "\n"
          ],
          "name": "stdout"
        }
      ]
    },
    {
      "cell_type": "markdown",
      "metadata": {
        "id": "ZdWRLbD2KraP",
        "colab_type": "text"
      },
      "source": [
        "##2. Modelo de regresión logistica"
      ]
    },
    {
      "cell_type": "markdown",
      "metadata": {
        "id": "U7oI5-omKxe6",
        "colab_type": "text"
      },
      "source": [
        "Dividimos los datos en entrenamiento y prueba"
      ]
    },
    {
      "cell_type": "code",
      "metadata": {
        "id": "PX-vqx4YNWB3",
        "colab_type": "code",
        "colab": {}
      },
      "source": [
        "X_train, X_test, y_train, y_test = train_test_split(dtm, conjuntoDatos.type, test_size=0.30)"
      ],
      "execution_count": 0,
      "outputs": []
    },
    {
      "cell_type": "markdown",
      "metadata": {
        "id": "6FqYyzmVOQ2Z",
        "colab_type": "text"
      },
      "source": [
        "Creamos la regresión logistica"
      ]
    },
    {
      "cell_type": "code",
      "metadata": {
        "id": "sNIi9z2VOPbI",
        "colab_type": "code",
        "colab": {}
      },
      "source": [
        "regresionLogistica = LogisticRegression(\n",
        "    penalty='l2',            # ‘l1’, ‘l2’, ‘elasticnet’, ‘none’\n",
        "    tol=0.0001,              # stop criteria\n",
        "    C=1.0,                   # factor inverso para regularizacion (SVM)\n",
        "    fit_intercept=True,      #\n",
        "    class_weight=None,       # None, dict or ‘balanced’\n",
        "    random_state=None,       #\n",
        "    solver='lbfgs',          # 'newton-cg’, ‘lbfgs’, ‘liblinear’, ‘sag’, ‘saga’\n",
        "    max_iter=100,            #\n",
        "    multi_class='auto',      # ‘ovr’, ‘multinomial’, ‘auto’\n",
        "    verbose=0,               #\n",
        "    warm_start=False,        # ?re-usa la solución previa\n",
        "    l1_ratio=None            # Elastic-Net mixing parameter, with 0 <= l1_ratio <= 1\n",
        ")\n",
        "\n",
        "#Entrenamos la regresión logistica \n",
        "regresionLogistica.fit(X_train,y_train);"
      ],
      "execution_count": 0,
      "outputs": []
    },
    {
      "cell_type": "markdown",
      "metadata": {
        "id": "i5NgznNiZv5w",
        "colab_type": "text"
      },
      "source": [
        "####**Creamos la matriz de confusión para la regresión logistica:**"
      ]
    },
    {
      "cell_type": "code",
      "metadata": {
        "id": "shvyKnS0ZV5H",
        "colab_type": "code",
        "outputId": "868148ed-08af-409d-fff5-795d40ce5e32",
        "colab": {
          "base_uri": "https://localhost:8080/",
          "height": 279
        }
      },
      "source": [
        "plot_confusion_matrix(regresionLogistica,X_test,y_test,normalize='true',cmap='Purples_r',);"
      ],
      "execution_count": 143,
      "outputs": [
        {
          "output_type": "display_data",
          "data": {
            "image/png": "[encoded data removed]",
            "text/plain": [
              "<Figure size 432x288 with 2 Axes>"
            ]
          },
          "metadata": {
            "tags": []
          }
        }
      ]
    },
    {
      "cell_type": "markdown",
      "metadata": {
        "id": "_NESZT4biGvS",
        "colab_type": "text"
      },
      "source": [
        "En la matriz de confusión del modelo de regresión logistica podemos notar que se obtienen excelentes resultados a la hora de detectar correo ham, pero se tienen algunos errores para detectar spam, este modelo sería idoneo para filtrar el correo de una bandeja de entrada, pero no tanto para filtrar una bandeja de spam."
      ]
    },
    {
      "cell_type": "markdown",
      "metadata": {
        "id": "QIvHL5mRg-uq",
        "colab_type": "text"
      },
      "source": [
        "####**Establecemos la robustez de la regresión logistica usando validación cruzada:**"
      ]
    },
    {
      "cell_type": "code",
      "metadata": {
        "id": "a0LQMae4gdsE",
        "colab_type": "code",
        "outputId": "633d12cb-f195-489b-ef59-8bd1610007d8",
        "colab": {
          "base_uri": "https://localhost:8080/",
          "height": 34
        }
      },
      "source": [
        "resultadosValidacion = cross_val_score(regresionLogistica, X_test, y_test, cv=10)\n",
        "print(\"Resultado: %0.2f (+/- %0.2f)\" % (resultadosValidacion.mean(), resultadosValidacion.std() * 2))"
      ],
      "execution_count": 144,
      "outputs": [
        {
          "output_type": "stream",
          "text": [
            "Resultado: 0.97 (+/- 0.03)\n"
          ],
          "name": "stdout"
        }
      ]
    },
    {
      "cell_type": "markdown",
      "metadata": {
        "id": "bRe-oAynhRu7",
        "colab_type": "text"
      },
      "source": [
        "Con el resultado de la validación cruzada podemos concluir que el modelo de regresión logistica es robusto y se comporta adecuadamente, ya que la clasificación que realiza respecto a correos ham o spamm es bastante acertada."
      ]
    },
    {
      "cell_type": "markdown",
      "metadata": {
        "id": "DMrqLxklrXxK",
        "colab_type": "text"
      },
      "source": [
        "##3.Redes neuronales"
      ]
    },
    {
      "cell_type": "markdown",
      "metadata": {
        "id": "mobbfvXs7V-E",
        "colab_type": "text"
      },
      "source": [
        "Creamos la red neuronal y buscamos el numero optimo de neuronas"
      ]
    },
    {
      "cell_type": "code",
      "metadata": {
        "id": "kKi8nuvyzTCj",
        "colab_type": "code",
        "colab": {}
      },
      "source": [
        "#Creamos el conjunto de datos donde guardaremos la información de las neuronas y la media\n",
        "neuronas=pd.DataFrame(columns=['Neuronas','Media'])\n",
        "\n",
        "#Iteramos sobre el numero de neuronas\n",
        "for numeroNeuronas in range(1,10):\n",
        "  #Creamos la red neuronal\n",
        "  redNeuronal= MLPClassifier(hidden_layer_sizes=(numeroNeuronas, ),\n",
        "                      activation = 'relu',\n",
        "                      learning_rate = 'adaptive',\n",
        "                      momentum = 0.9,\n",
        "                      solver= 'sgd',\n",
        "                      learning_rate_init = 0.01,\n",
        "                      max_iter = 1000,\n",
        "                      random_state=0)\n",
        "  \n",
        "  #Entrenamos la red neuronal\n",
        "  redNeuronal.fit(X_train,y_train)\n",
        "\n",
        "  #Realizamos validación cruzada\n",
        "  resultadosValidacion = cross_val_score(redNeuronal, X_test, y_test, cv=10,scoring='accuracy')\n",
        "  #Guardamos el resultado de la media dado por la validación cruzada\n",
        "  media=resultadosValidacion.mean()\n",
        "\n",
        "  #Guardamos el numero de neuronas y la media de la validación cruzada\n",
        "  neuronas = neuronas.append({\n",
        "                    \"Neuronas\": numeroNeuronas,\n",
        "                    \"Media\": media\n",
        "                },ignore_index=True)"
      ],
      "execution_count": 0,
      "outputs": []
    },
    {
      "cell_type": "markdown",
      "metadata": {
        "id": "23chdiR18CQh",
        "colab_type": "text"
      },
      "source": [
        "Buscamos el numero optimo de neuronas"
      ]
    },
    {
      "cell_type": "code",
      "metadata": {
        "id": "mgEACz945pey",
        "colab_type": "code",
        "colab": {
          "base_uri": "https://localhost:8080/",
          "height": 80
        },
        "outputId": "1e3343de-869d-4758-b7fd-ef742a7fe1b1"
      },
      "source": [
        "#Encontramos el numero optimo de neuronas con base en la media maximo de todos los modelos\n",
        "neuronasOptimas = neuronas[neuronas['Media']==max(neuronas['Media'])]\n",
        "#Mostramos el numero de neuronas optimas\n",
        "neuronasOptimas"
      ],
      "execution_count": 146,
      "outputs": [
        {
          "output_type": "execute_result",
          "data": {
            "text/html": [
              "<div>\n",
              "<style scoped>\n",
              "    .dataframe tbody tr th:only-of-type {\n",
              "        vertical-align: middle;\n",
              "    }\n",
              "\n",
              "    .dataframe tbody tr th {\n",
              "        vertical-align: top;\n",
              "    }\n",
              "\n",
              "    .dataframe thead th {\n",
              "        text-align: right;\n",
              "    }\n",
              "</style>\n",
              "<table border=\"1\" class=\"dataframe\">\n",
              "  <thead>\n",
              "    <tr style=\"text-align: right;\">\n",
              "      <th></th>\n",
              "      <th>Neuronas</th>\n",
              "      <th>Media</th>\n",
              "    </tr>\n",
              "  </thead>\n",
              "  <tbody>\n",
              "    <tr>\n",
              "      <th>0</th>\n",
              "      <td>1.0</td>\n",
              "      <td>0.983251</td>\n",
              "    </tr>\n",
              "  </tbody>\n",
              "</table>\n",
              "</div>"
            ],
            "text/plain": [
              "   Neuronas     Media\n",
              "0       1.0  0.983251"
            ]
          },
          "metadata": {
            "tags": []
          },
          "execution_count": 146
        }
      ]
    },
    {
      "cell_type": "markdown",
      "metadata": {
        "id": "hYYeMtwZ8sw8",
        "colab_type": "text"
      },
      "source": [
        "Creamos el modelo de redes neuronales con el numero optimo de neuronas"
      ]
    },
    {
      "cell_type": "code",
      "metadata": {
        "id": "fjY0590U5y88",
        "colab_type": "code",
        "colab": {}
      },
      "source": [
        "#Creamos el modelo de redes neuronales\n",
        "redNeuronalOptimizada= MLPClassifier(hidden_layer_sizes=(int(neuronasOptimas['Neuronas']), ),\n",
        "                                     activation = 'relu',\n",
        "                                     learning_rate = 'adaptive',\n",
        "                                     momentum = 0.9,\n",
        "                                     solver= 'sgd',\n",
        "                                     learning_rate_init = 0.01,\n",
        "                                     max_iter = 1000,\n",
        "                                     random_state=0)\n",
        "\n",
        "#Entrenamos el modelo\n",
        "redNeuronalOptimizada.fit(X_train,y_train);"
      ],
      "execution_count": 0,
      "outputs": []
    },
    {
      "cell_type": "markdown",
      "metadata": {
        "id": "gb_E-BOI9C3u",
        "colab_type": "text"
      },
      "source": [
        "####**Creamos la matriz de confusión para la red neuronal:**"
      ]
    },
    {
      "cell_type": "code",
      "metadata": {
        "id": "ho8_K2LJlpRm",
        "colab_type": "code",
        "outputId": "bfc0360b-9615-4806-dc22-d0618d06675a",
        "colab": {
          "base_uri": "https://localhost:8080/",
          "height": 279
        }
      },
      "source": [
        "#Presentamos la matriz de confusión\n",
        "plot_confusion_matrix(redNeuronalOptimizada,X_test,y_test,normalize='true',cmap='Purples_r');"
      ],
      "execution_count": 148,
      "outputs": [
        {
          "output_type": "display_data",
          "data": {
            "image/png": "[encoded data removed]",
            "text/plain": [
              "<Figure size 432x288 with 2 Axes>"
            ]
          },
          "metadata": {
            "tags": []
          }
        }
      ]
    },
    {
      "cell_type": "markdown",
      "metadata": {
        "id": "7C64aJYo_yy1",
        "colab_type": "text"
      },
      "source": [
        "En la matriz de confusión del modelo de redes neuronales podemos notar que al igual que con el caso de la regresión logistica se obtienen excelentes resultados a la hora de detectar correo ham, respecto al correo spam continuamos teniendo errores pero estos son menores que los del modelo de regresión logistica, por lo tanto concluimos que la red neuronal es mas optima a la hora de filtrar correo ham y spam."
      ]
    },
    {
      "cell_type": "markdown",
      "metadata": {
        "id": "V-JYvAvy9N_6",
        "colab_type": "text"
      },
      "source": [
        "####**Establecemos la robustez de la red neuronal usando validación cruzada:**"
      ]
    },
    {
      "cell_type": "code",
      "metadata": {
        "id": "vCFe93u3ye3s",
        "colab_type": "code",
        "outputId": "324ef27c-8b6f-4fa1-a685-533af28c1bb5",
        "colab": {
          "base_uri": "https://localhost:8080/",
          "height": 34
        }
      },
      "source": [
        "resultadosValidacion = cross_val_score(redNeuronalOptimizada, X_test, y_test, cv=10,scoring='accuracy')\n",
        "print(\"Resultado: %0.2f (+/- %0.2f)\" % (resultadosValidacion.mean(), resultadosValidacion.std() * 2))"
      ],
      "execution_count": 149,
      "outputs": [
        {
          "output_type": "stream",
          "text": [
            "Resultado: 0.98 (+/- 0.02)\n"
          ],
          "name": "stdout"
        }
      ]
    },
    {
      "cell_type": "markdown",
      "metadata": {
        "id": "q5kflM30Aw8K",
        "colab_type": "text"
      },
      "source": [
        "Con el resultado de la validación cruzada podemos concluir que el modelo de redes neuronales es robusto y se comporta adecuadamente, ya que la clasificación que realiza respecto a correos ham y spam es bastante acertada, adicionalmente notamos que estos resultados son mejores que los de la regresión logistica, Además junto con la conclusión de la matriz de confusión podemos afirmar que este es el mejor de los dos modelos para clasificación de correos ham y spmm."
      ]
    }
  ]
}