{
  "nbformat": 4,
  "nbformat_minor": 0,
  "metadata": {
    "colab": {
      "name": "02-diabetes.ipynb",
      "provenance": [],
      "collapsed_sections": [],
      "toc_visible": true
    },
    "kernelspec": {
      "display_name": "Python 3",
      "language": "python",
      "name": "python3"
    },
    "language_info": {
      "codemirror_mode": {
        "name": "ipython",
        "version": 3
      },
      "file_extension": ".py",
      "mimetype": "text/x-python",
      "name": "python",
      "nbconvert_exporter": "python",
      "pygments_lexer": "ipython3",
      "version": "3.6.7"
    }
  },
  "cells": [
    {
      "cell_type": "markdown",
      "metadata": {
        "id": "d1AiV-vQYYYn",
        "colab_type": "text"
      },
      "source": [
        "# Pronóstico de la evolución de pacientes con diabetes"
      ]
    },
    {
      "cell_type": "markdown",
      "metadata": {
        "id": "SsiPBxRewler",
        "colab_type": "text"
      },
      "source": [
        "## Descripción del problema real"
      ]
    },
    {
      "cell_type": "markdown",
      "metadata": {
        "id": "Z16G_txAwleu",
        "colab_type": "text"
      },
      "source": [
        "Los tratamientos médicos están basados en las expectativas de recuperación o el avance de una enfermedad para tomar decisiones. En este caso, un equipo médico desea contar con pronósticos de pacientes con diabetes para tomar decisiones sobre su tratamiento."
      ]
    },
    {
      "cell_type": "markdown",
      "metadata": {
        "id": "V6_Yxm00wle2",
        "colab_type": "text"
      },
      "source": [
        "## Descripción del problema en términos de los datos"
      ]
    },
    {
      "cell_type": "markdown",
      "metadata": {
        "id": "RZ0KiDzGwle3",
        "colab_type": "text"
      },
      "source": [
        "Se desea determinar el progreso de la diabeteis un año hacia adelante a partir de las variables medidas para 442 pacientes. La información está almacenada en el archivo `datos/diabetes.csv`. Las variables medidas son: edad, sexo, indice de masa corporal, presión sanguinea y seis medidas de serum en la sangre. Se desea pronósticar el progreso de la enfermedad a partir de las variables dadas."
      ]
    },
    {
      "cell_type": "markdown",
      "metadata": {
        "id": "J7B_yZ39wle6",
        "colab_type": "text"
      },
      "source": [
        "## Aproximaciones posibles"
      ]
    },
    {
      "cell_type": "markdown",
      "metadata": {
        "id": "pNTeHPImwle8",
        "colab_type": "text"
      },
      "source": [
        "En este caso, se desea comparar los resultados de un modelo de regresión lineal y un modelo de redes neuronales artificiales."
      ]
    },
    {
      "cell_type": "markdown",
      "metadata": {
        "id": "9zDSNCq9wlfB",
        "colab_type": "text"
      },
      "source": [
        "## Requerimientos"
      ]
    },
    {
      "cell_type": "markdown",
      "metadata": {
        "id": "UzuDyIh1wlfE",
        "colab_type": "text"
      },
      "source": [
        "Usted debe:\n",
        "\n",
        "* Determinar cuáles de las variables consideradas son relevantes para el problema. **Listo**\n",
        "\n",
        "\n",
        "* Determinar si hay alguna transformación de las variables de entrada o de salida que mejore el pronóstico del modelo. **Listo**\n",
        "\n",
        "\n",
        "* Construir un modelo de regresión lineal que sirva como base para construir un modelo de redes neuronales artificiales **Listo**.\n",
        "\n",
        "\n",
        "\n",
        "* Construir un modelo de redes neuronales artificiales. Asimismo, debe determinar el número de neuronas en la capa o capas ocultas. **Listo**\n",
        "\n",
        "\n",
        "* Utiizar una técnica como crossvalidation u otra similar para establecer la robustez del modelo. **Listo**"
      ]
    },
    {
      "cell_type": "markdown",
      "metadata": {
        "id": "wnDoBHS90oXc",
        "colab_type": "text"
      },
      "source": [
        "##1.Procesamiento de datos"
      ]
    },
    {
      "cell_type": "markdown",
      "metadata": {
        "id": "UGo9qwZe0112",
        "colab_type": "text"
      },
      "source": [
        "####Cargamos las librerias"
      ]
    },
    {
      "cell_type": "code",
      "metadata": {
        "id": "AJ4UQBwt0mfu",
        "colab_type": "code",
        "colab": {}
      },
      "source": [
        "import pandas as pd\n",
        "import numpy as np\n",
        "import matplotlib.pyplot as plt\n",
        "%matplotlib inline\n",
        "\n",
        "from sklearn.preprocessing import StandardScaler\n",
        "from sklearn.feature_selection import RFECV\n",
        "from sklearn import linear_model\n",
        "from sklearn.model_selection import train_test_split,cross_val_score\n",
        "from sklearn.linear_model import LinearRegression\n",
        "from sklearn import metrics\n",
        "from sklearn.preprocessing import MinMaxScaler\n",
        "import seaborn as sns\n",
        "from sklearn.neural_network import MLPRegressor"
      ],
      "execution_count": 0,
      "outputs": []
    },
    {
      "cell_type": "markdown",
      "metadata": {
        "id": "ep7fVCZx1FxY",
        "colab_type": "text"
      },
      "source": [
        "####Construimos el conjunto de datos"
      ]
    },
    {
      "cell_type": "code",
      "metadata": {
        "id": "BQsQTi0e1NFk",
        "colab_type": "code",
        "outputId": "28118979-07bc-4480-ed93-3d367f549ed0",
        "colab": {
          "base_uri": "https://localhost:8080/",
          "height": 385
        }
      },
      "source": [
        "#Cargamos el conjunto de datos y lo guardamos en un dataframe\n",
        "conjuntoDatos = pd.read_csv('./Datos/diabetes.csv')\n",
        "#Mostramos la descripción del conjunto de datos\n",
        "conjuntoDatos.describe()"
      ],
      "execution_count": 63,
      "outputs": [
        {
          "output_type": "execute_result",
          "data": {
            "text/html": [
              "<div>\n",
              "<style scoped>\n",
              "    .dataframe tbody tr th:only-of-type {\n",
              "        vertical-align: middle;\n",
              "    }\n",
              "\n",
              "    .dataframe tbody tr th {\n",
              "        vertical-align: top;\n",
              "    }\n",
              "\n",
              "    .dataframe thead th {\n",
              "        text-align: right;\n",
              "    }\n",
              "</style>\n",
              "<table border=\"1\" class=\"dataframe\">\n",
              "  <thead>\n",
              "    <tr style=\"text-align: right;\">\n",
              "      <th></th>\n",
              "      <th>age</th>\n",
              "      <th>sex</th>\n",
              "      <th>bmi</th>\n",
              "      <th>bp</th>\n",
              "      <th>s1</th>\n",
              "      <th>s2</th>\n",
              "      <th>s3</th>\n",
              "      <th>s4</th>\n",
              "      <th>s5</th>\n",
              "      <th>s6</th>\n",
              "      <th>Y</th>\n",
              "    </tr>\n",
              "  </thead>\n",
              "  <tbody>\n",
              "    <tr>\n",
              "      <th>count</th>\n",
              "      <td>4.420000e+02</td>\n",
              "      <td>4.420000e+02</td>\n",
              "      <td>4.420000e+02</td>\n",
              "      <td>4.420000e+02</td>\n",
              "      <td>4.420000e+02</td>\n",
              "      <td>4.420000e+02</td>\n",
              "      <td>4.420000e+02</td>\n",
              "      <td>4.420000e+02</td>\n",
              "      <td>4.420000e+02</td>\n",
              "      <td>4.420000e+02</td>\n",
              "      <td>442.000000</td>\n",
              "    </tr>\n",
              "    <tr>\n",
              "      <th>mean</th>\n",
              "      <td>-3.634599e-16</td>\n",
              "      <td>1.296411e-16</td>\n",
              "      <td>-8.042209e-16</td>\n",
              "      <td>1.281655e-16</td>\n",
              "      <td>-8.835316e-17</td>\n",
              "      <td>1.327024e-16</td>\n",
              "      <td>-4.575274e-16</td>\n",
              "      <td>3.780755e-16</td>\n",
              "      <td>-3.830854e-16</td>\n",
              "      <td>-3.411950e-16</td>\n",
              "      <td>152.133484</td>\n",
              "    </tr>\n",
              "    <tr>\n",
              "      <th>std</th>\n",
              "      <td>4.761905e-02</td>\n",
              "      <td>4.761905e-02</td>\n",
              "      <td>4.761905e-02</td>\n",
              "      <td>4.761905e-02</td>\n",
              "      <td>4.761905e-02</td>\n",
              "      <td>4.761905e-02</td>\n",
              "      <td>4.761905e-02</td>\n",
              "      <td>4.761905e-02</td>\n",
              "      <td>4.761905e-02</td>\n",
              "      <td>4.761905e-02</td>\n",
              "      <td>77.093005</td>\n",
              "    </tr>\n",
              "    <tr>\n",
              "      <th>min</th>\n",
              "      <td>-1.072256e-01</td>\n",
              "      <td>-4.464164e-02</td>\n",
              "      <td>-9.027530e-02</td>\n",
              "      <td>-1.123996e-01</td>\n",
              "      <td>-1.267807e-01</td>\n",
              "      <td>-1.156131e-01</td>\n",
              "      <td>-1.023071e-01</td>\n",
              "      <td>-7.639450e-02</td>\n",
              "      <td>-1.260974e-01</td>\n",
              "      <td>-1.377672e-01</td>\n",
              "      <td>25.000000</td>\n",
              "    </tr>\n",
              "    <tr>\n",
              "      <th>25%</th>\n",
              "      <td>-3.729927e-02</td>\n",
              "      <td>-4.464164e-02</td>\n",
              "      <td>-3.422907e-02</td>\n",
              "      <td>-3.665645e-02</td>\n",
              "      <td>-3.424784e-02</td>\n",
              "      <td>-3.035840e-02</td>\n",
              "      <td>-3.511716e-02</td>\n",
              "      <td>-3.949338e-02</td>\n",
              "      <td>-3.324879e-02</td>\n",
              "      <td>-3.317903e-02</td>\n",
              "      <td>87.000000</td>\n",
              "    </tr>\n",
              "    <tr>\n",
              "      <th>50%</th>\n",
              "      <td>5.383060e-03</td>\n",
              "      <td>-4.464164e-02</td>\n",
              "      <td>-7.283766e-03</td>\n",
              "      <td>-5.670611e-03</td>\n",
              "      <td>-4.320866e-03</td>\n",
              "      <td>-3.819065e-03</td>\n",
              "      <td>-6.584468e-03</td>\n",
              "      <td>-2.592262e-03</td>\n",
              "      <td>-1.947634e-03</td>\n",
              "      <td>-1.077698e-03</td>\n",
              "      <td>140.500000</td>\n",
              "    </tr>\n",
              "    <tr>\n",
              "      <th>75%</th>\n",
              "      <td>3.807591e-02</td>\n",
              "      <td>5.068012e-02</td>\n",
              "      <td>3.124802e-02</td>\n",
              "      <td>3.564384e-02</td>\n",
              "      <td>2.835801e-02</td>\n",
              "      <td>2.984439e-02</td>\n",
              "      <td>2.931150e-02</td>\n",
              "      <td>3.430886e-02</td>\n",
              "      <td>3.243323e-02</td>\n",
              "      <td>2.791705e-02</td>\n",
              "      <td>211.500000</td>\n",
              "    </tr>\n",
              "    <tr>\n",
              "      <th>max</th>\n",
              "      <td>1.107267e-01</td>\n",
              "      <td>5.068012e-02</td>\n",
              "      <td>1.705552e-01</td>\n",
              "      <td>1.320442e-01</td>\n",
              "      <td>1.539137e-01</td>\n",
              "      <td>1.987880e-01</td>\n",
              "      <td>1.811791e-01</td>\n",
              "      <td>1.852344e-01</td>\n",
              "      <td>1.335990e-01</td>\n",
              "      <td>1.356118e-01</td>\n",
              "      <td>346.000000</td>\n",
              "    </tr>\n",
              "  </tbody>\n",
              "</table>\n",
              "</div>"
            ],
            "text/plain": [
              "                age           sex  ...            s6           Y\n",
              "count  4.420000e+02  4.420000e+02  ...  4.420000e+02  442.000000\n",
              "mean  -3.634599e-16  1.296411e-16  ... -3.411950e-16  152.133484\n",
              "std    4.761905e-02  4.761905e-02  ...  4.761905e-02   77.093005\n",
              "min   -1.072256e-01 -4.464164e-02  ... -1.377672e-01   25.000000\n",
              "25%   -3.729927e-02 -4.464164e-02  ... -3.317903e-02   87.000000\n",
              "50%    5.383060e-03 -4.464164e-02  ... -1.077698e-03  140.500000\n",
              "75%    3.807591e-02  5.068012e-02  ...  2.791705e-02  211.500000\n",
              "max    1.107267e-01  5.068012e-02  ...  1.356118e-01  346.000000\n",
              "\n",
              "[8 rows x 11 columns]"
            ]
          },
          "metadata": {
            "tags": []
          },
          "execution_count": 63
        }
      ]
    },
    {
      "cell_type": "code",
      "metadata": {
        "id": "6BbXQaMd2Bii",
        "colab_type": "code",
        "outputId": "4913138b-2aa5-4b2a-b465-4979527c3301",
        "colab": {
          "base_uri": "https://localhost:8080/",
          "height": 204
        }
      },
      "source": [
        "#Mostramos los cinco primeros datos para corroborar que la información esté bien organizada\n",
        "conjuntoDatos.head()"
      ],
      "execution_count": 64,
      "outputs": [
        {
          "output_type": "execute_result",
          "data": {
            "text/html": [
              "<div>\n",
              "<style scoped>\n",
              "    .dataframe tbody tr th:only-of-type {\n",
              "        vertical-align: middle;\n",
              "    }\n",
              "\n",
              "    .dataframe tbody tr th {\n",
              "        vertical-align: top;\n",
              "    }\n",
              "\n",
              "    .dataframe thead th {\n",
              "        text-align: right;\n",
              "    }\n",
              "</style>\n",
              "<table border=\"1\" class=\"dataframe\">\n",
              "  <thead>\n",
              "    <tr style=\"text-align: right;\">\n",
              "      <th></th>\n",
              "      <th>age</th>\n",
              "      <th>sex</th>\n",
              "      <th>bmi</th>\n",
              "      <th>bp</th>\n",
              "      <th>s1</th>\n",
              "      <th>s2</th>\n",
              "      <th>s3</th>\n",
              "      <th>s4</th>\n",
              "      <th>s5</th>\n",
              "      <th>s6</th>\n",
              "      <th>Y</th>\n",
              "    </tr>\n",
              "  </thead>\n",
              "  <tbody>\n",
              "    <tr>\n",
              "      <th>0</th>\n",
              "      <td>0.038076</td>\n",
              "      <td>0.050680</td>\n",
              "      <td>0.061696</td>\n",
              "      <td>0.021872</td>\n",
              "      <td>-0.044223</td>\n",
              "      <td>-0.034821</td>\n",
              "      <td>-0.043401</td>\n",
              "      <td>-0.002592</td>\n",
              "      <td>0.019908</td>\n",
              "      <td>-0.017646</td>\n",
              "      <td>151.0</td>\n",
              "    </tr>\n",
              "    <tr>\n",
              "      <th>1</th>\n",
              "      <td>-0.001882</td>\n",
              "      <td>-0.044642</td>\n",
              "      <td>-0.051474</td>\n",
              "      <td>-0.026328</td>\n",
              "      <td>-0.008449</td>\n",
              "      <td>-0.019163</td>\n",
              "      <td>0.074412</td>\n",
              "      <td>-0.039493</td>\n",
              "      <td>-0.068330</td>\n",
              "      <td>-0.092204</td>\n",
              "      <td>75.0</td>\n",
              "    </tr>\n",
              "    <tr>\n",
              "      <th>2</th>\n",
              "      <td>0.085299</td>\n",
              "      <td>0.050680</td>\n",
              "      <td>0.044451</td>\n",
              "      <td>-0.005671</td>\n",
              "      <td>-0.045599</td>\n",
              "      <td>-0.034194</td>\n",
              "      <td>-0.032356</td>\n",
              "      <td>-0.002592</td>\n",
              "      <td>0.002864</td>\n",
              "      <td>-0.025930</td>\n",
              "      <td>141.0</td>\n",
              "    </tr>\n",
              "    <tr>\n",
              "      <th>3</th>\n",
              "      <td>-0.089063</td>\n",
              "      <td>-0.044642</td>\n",
              "      <td>-0.011595</td>\n",
              "      <td>-0.036656</td>\n",
              "      <td>0.012191</td>\n",
              "      <td>0.024991</td>\n",
              "      <td>-0.036038</td>\n",
              "      <td>0.034309</td>\n",
              "      <td>0.022692</td>\n",
              "      <td>-0.009362</td>\n",
              "      <td>206.0</td>\n",
              "    </tr>\n",
              "    <tr>\n",
              "      <th>4</th>\n",
              "      <td>0.005383</td>\n",
              "      <td>-0.044642</td>\n",
              "      <td>-0.036385</td>\n",
              "      <td>0.021872</td>\n",
              "      <td>0.003935</td>\n",
              "      <td>0.015596</td>\n",
              "      <td>0.008142</td>\n",
              "      <td>-0.002592</td>\n",
              "      <td>-0.031991</td>\n",
              "      <td>-0.046641</td>\n",
              "      <td>135.0</td>\n",
              "    </tr>\n",
              "  </tbody>\n",
              "</table>\n",
              "</div>"
            ],
            "text/plain": [
              "        age       sex       bmi        bp  ...        s4        s5        s6      Y\n",
              "0  0.038076  0.050680  0.061696  0.021872  ... -0.002592  0.019908 -0.017646  151.0\n",
              "1 -0.001882 -0.044642 -0.051474 -0.026328  ... -0.039493 -0.068330 -0.092204   75.0\n",
              "2  0.085299  0.050680  0.044451 -0.005671  ... -0.002592  0.002864 -0.025930  141.0\n",
              "3 -0.089063 -0.044642 -0.011595 -0.036656  ...  0.034309  0.022692 -0.009362  206.0\n",
              "4  0.005383 -0.044642 -0.036385  0.021872  ... -0.002592 -0.031991 -0.046641  135.0\n",
              "\n",
              "[5 rows x 11 columns]"
            ]
          },
          "metadata": {
            "tags": []
          },
          "execution_count": 64
        }
      ]
    },
    {
      "cell_type": "code",
      "metadata": {
        "id": "f7reAoy02cpj",
        "colab_type": "code",
        "outputId": "34abde35-fca3-4654-d95c-2dbf9d01a6e3",
        "colab": {
          "base_uri": "https://localhost:8080/",
          "height": 221
        }
      },
      "source": [
        "#Comprobamos el tipo de los datos\n",
        "conjuntoDatos.dtypes"
      ],
      "execution_count": 65,
      "outputs": [
        {
          "output_type": "execute_result",
          "data": {
            "text/plain": [
              "age    float64\n",
              "sex    float64\n",
              "bmi    float64\n",
              "bp     float64\n",
              "s1     float64\n",
              "s2     float64\n",
              "s3     float64\n",
              "s4     float64\n",
              "s5     float64\n",
              "s6     float64\n",
              "Y      float64\n",
              "dtype: object"
            ]
          },
          "metadata": {
            "tags": []
          },
          "execution_count": 65
        }
      ]
    },
    {
      "cell_type": "code",
      "metadata": {
        "id": "6gEucwCU2hAX",
        "colab_type": "code",
        "outputId": "1eac989b-76b3-46c8-aee3-9c4d0be3906a",
        "colab": {
          "base_uri": "https://localhost:8080/",
          "height": 34
        }
      },
      "source": [
        "#Comprobamos si existen NaN en el conjunto de datos\n",
        "conjuntoDatos.isnull().values.any()"
      ],
      "execution_count": 66,
      "outputs": [
        {
          "output_type": "execute_result",
          "data": {
            "text/plain": [
              "False"
            ]
          },
          "metadata": {
            "tags": []
          },
          "execution_count": 66
        }
      ]
    },
    {
      "cell_type": "code",
      "metadata": {
        "id": "x01auR3G3Dnv",
        "colab_type": "code",
        "outputId": "49fd1c16-3f97-4825-913f-1d63dc3dc053",
        "colab": {
          "base_uri": "https://localhost:8080/",
          "height": 221
        }
      },
      "source": [
        "#Comprobamos si existed datos duplicados\n",
        "duplicados = conjuntoDatos[conjuntoDatos.duplicated(keep=False)]\n",
        "duplicados.any()"
      ],
      "execution_count": 67,
      "outputs": [
        {
          "output_type": "execute_result",
          "data": {
            "text/plain": [
              "age    False\n",
              "sex    False\n",
              "bmi    False\n",
              "bp     False\n",
              "s1     False\n",
              "s2     False\n",
              "s3     False\n",
              "s4     False\n",
              "s5     False\n",
              "s6     False\n",
              "Y      False\n",
              "dtype: bool"
            ]
          },
          "metadata": {
            "tags": []
          },
          "execution_count": 67
        }
      ]
    },
    {
      "cell_type": "markdown",
      "metadata": {
        "id": "PTwk8bON3dxi",
        "colab_type": "text"
      },
      "source": [
        "Segun la información obtenida en los procedimientos anteriores, podemos concluir que los datos se encuentran organizados correctamente y no es necesario modificarlos"
      ]
    },
    {
      "cell_type": "markdown",
      "metadata": {
        "id": "X0mVMB95F1ql",
        "colab_type": "text"
      },
      "source": [
        "##2. Selección de variables"
      ]
    },
    {
      "cell_type": "markdown",
      "metadata": {
        "id": "-rNQsEptJx8L",
        "colab_type": "text"
      },
      "source": [
        "Inicialmente observamos la correlación que hay entre las variables, esto nos puede dar un indicio sobre que variables no son tan relevantes para nuestro modelo.\n",
        "\n",
        "\n",
        "*   Dos variables están correlacionadas directamente si el coficiente de correlación toma valores muy cercanos a 1 en el intervalo [-1,1].\n",
        "*    Dos variables están correlacionadasinversamente si el coficiente de correlación toma valores muy cercanos a -1 en el intervalo [-1,1].\n",
        "* Si el coeficiente toma alguno de los dos valores extremos (-1 o 1) las variables se encuentran perfectamente correlacionadas.\n",
        "* Si el coeficiente toma valores cercanos iguales a cero o cercanos a este en el intervalo [-1,1] significa que no hay correlación.\n",
        "\n"
      ]
    },
    {
      "cell_type": "code",
      "metadata": {
        "id": "YqfStEat9CQk",
        "colab_type": "code",
        "outputId": "04885bb4-7018-4198-ac78-0855468e49f0",
        "colab": {
          "base_uri": "https://localhost:8080/",
          "height": 390
        }
      },
      "source": [
        "#Hallamos la correlacion de pearson\n",
        "correlacion=conjuntoDatos.corr(method='pearson')\n",
        "correlacion"
      ],
      "execution_count": 68,
      "outputs": [
        {
          "output_type": "execute_result",
          "data": {
            "text/html": [
              "<div>\n",
              "<style scoped>\n",
              "    .dataframe tbody tr th:only-of-type {\n",
              "        vertical-align: middle;\n",
              "    }\n",
              "\n",
              "    .dataframe tbody tr th {\n",
              "        vertical-align: top;\n",
              "    }\n",
              "\n",
              "    .dataframe thead th {\n",
              "        text-align: right;\n",
              "    }\n",
              "</style>\n",
              "<table border=\"1\" class=\"dataframe\">\n",
              "  <thead>\n",
              "    <tr style=\"text-align: right;\">\n",
              "      <th></th>\n",
              "      <th>age</th>\n",
              "      <th>sex</th>\n",
              "      <th>bmi</th>\n",
              "      <th>bp</th>\n",
              "      <th>s1</th>\n",
              "      <th>s2</th>\n",
              "      <th>s3</th>\n",
              "      <th>s4</th>\n",
              "      <th>s5</th>\n",
              "      <th>s6</th>\n",
              "      <th>Y</th>\n",
              "    </tr>\n",
              "  </thead>\n",
              "  <tbody>\n",
              "    <tr>\n",
              "      <th>age</th>\n",
              "      <td>1.000000</td>\n",
              "      <td>0.173737</td>\n",
              "      <td>0.185085</td>\n",
              "      <td>0.335427</td>\n",
              "      <td>0.260061</td>\n",
              "      <td>0.219243</td>\n",
              "      <td>-0.075181</td>\n",
              "      <td>0.203841</td>\n",
              "      <td>0.270777</td>\n",
              "      <td>0.301731</td>\n",
              "      <td>0.187889</td>\n",
              "    </tr>\n",
              "    <tr>\n",
              "      <th>sex</th>\n",
              "      <td>0.173737</td>\n",
              "      <td>1.000000</td>\n",
              "      <td>0.088161</td>\n",
              "      <td>0.241013</td>\n",
              "      <td>0.035277</td>\n",
              "      <td>0.142637</td>\n",
              "      <td>-0.379090</td>\n",
              "      <td>0.332115</td>\n",
              "      <td>0.149918</td>\n",
              "      <td>0.208133</td>\n",
              "      <td>0.043062</td>\n",
              "    </tr>\n",
              "    <tr>\n",
              "      <th>bmi</th>\n",
              "      <td>0.185085</td>\n",
              "      <td>0.088161</td>\n",
              "      <td>1.000000</td>\n",
              "      <td>0.395415</td>\n",
              "      <td>0.249777</td>\n",
              "      <td>0.261170</td>\n",
              "      <td>-0.366811</td>\n",
              "      <td>0.413807</td>\n",
              "      <td>0.446159</td>\n",
              "      <td>0.388680</td>\n",
              "      <td>0.586450</td>\n",
              "    </tr>\n",
              "    <tr>\n",
              "      <th>bp</th>\n",
              "      <td>0.335427</td>\n",
              "      <td>0.241013</td>\n",
              "      <td>0.395415</td>\n",
              "      <td>1.000000</td>\n",
              "      <td>0.242470</td>\n",
              "      <td>0.185558</td>\n",
              "      <td>-0.178761</td>\n",
              "      <td>0.257653</td>\n",
              "      <td>0.393478</td>\n",
              "      <td>0.390429</td>\n",
              "      <td>0.441484</td>\n",
              "    </tr>\n",
              "    <tr>\n",
              "      <th>s1</th>\n",
              "      <td>0.260061</td>\n",
              "      <td>0.035277</td>\n",
              "      <td>0.249777</td>\n",
              "      <td>0.242470</td>\n",
              "      <td>1.000000</td>\n",
              "      <td>0.896663</td>\n",
              "      <td>0.051519</td>\n",
              "      <td>0.542207</td>\n",
              "      <td>0.515501</td>\n",
              "      <td>0.325717</td>\n",
              "      <td>0.212022</td>\n",
              "    </tr>\n",
              "    <tr>\n",
              "      <th>s2</th>\n",
              "      <td>0.219243</td>\n",
              "      <td>0.142637</td>\n",
              "      <td>0.261170</td>\n",
              "      <td>0.185558</td>\n",
              "      <td>0.896663</td>\n",
              "      <td>1.000000</td>\n",
              "      <td>-0.196455</td>\n",
              "      <td>0.659817</td>\n",
              "      <td>0.318353</td>\n",
              "      <td>0.290600</td>\n",
              "      <td>0.174054</td>\n",
              "    </tr>\n",
              "    <tr>\n",
              "      <th>s3</th>\n",
              "      <td>-0.075181</td>\n",
              "      <td>-0.379090</td>\n",
              "      <td>-0.366811</td>\n",
              "      <td>-0.178761</td>\n",
              "      <td>0.051519</td>\n",
              "      <td>-0.196455</td>\n",
              "      <td>1.000000</td>\n",
              "      <td>-0.738493</td>\n",
              "      <td>-0.398577</td>\n",
              "      <td>-0.273697</td>\n",
              "      <td>-0.394789</td>\n",
              "    </tr>\n",
              "    <tr>\n",
              "      <th>s4</th>\n",
              "      <td>0.203841</td>\n",
              "      <td>0.332115</td>\n",
              "      <td>0.413807</td>\n",
              "      <td>0.257653</td>\n",
              "      <td>0.542207</td>\n",
              "      <td>0.659817</td>\n",
              "      <td>-0.738493</td>\n",
              "      <td>1.000000</td>\n",
              "      <td>0.617857</td>\n",
              "      <td>0.417212</td>\n",
              "      <td>0.430453</td>\n",
              "    </tr>\n",
              "    <tr>\n",
              "      <th>s5</th>\n",
              "      <td>0.270777</td>\n",
              "      <td>0.149918</td>\n",
              "      <td>0.446159</td>\n",
              "      <td>0.393478</td>\n",
              "      <td>0.515501</td>\n",
              "      <td>0.318353</td>\n",
              "      <td>-0.398577</td>\n",
              "      <td>0.617857</td>\n",
              "      <td>1.000000</td>\n",
              "      <td>0.464670</td>\n",
              "      <td>0.565883</td>\n",
              "    </tr>\n",
              "    <tr>\n",
              "      <th>s6</th>\n",
              "      <td>0.301731</td>\n",
              "      <td>0.208133</td>\n",
              "      <td>0.388680</td>\n",
              "      <td>0.390429</td>\n",
              "      <td>0.325717</td>\n",
              "      <td>0.290600</td>\n",
              "      <td>-0.273697</td>\n",
              "      <td>0.417212</td>\n",
              "      <td>0.464670</td>\n",
              "      <td>1.000000</td>\n",
              "      <td>0.382483</td>\n",
              "    </tr>\n",
              "    <tr>\n",
              "      <th>Y</th>\n",
              "      <td>0.187889</td>\n",
              "      <td>0.043062</td>\n",
              "      <td>0.586450</td>\n",
              "      <td>0.441484</td>\n",
              "      <td>0.212022</td>\n",
              "      <td>0.174054</td>\n",
              "      <td>-0.394789</td>\n",
              "      <td>0.430453</td>\n",
              "      <td>0.565883</td>\n",
              "      <td>0.382483</td>\n",
              "      <td>1.000000</td>\n",
              "    </tr>\n",
              "  </tbody>\n",
              "</table>\n",
              "</div>"
            ],
            "text/plain": [
              "          age       sex       bmi  ...        s5        s6         Y\n",
              "age  1.000000  0.173737  0.185085  ...  0.270777  0.301731  0.187889\n",
              "sex  0.173737  1.000000  0.088161  ...  0.149918  0.208133  0.043062\n",
              "bmi  0.185085  0.088161  1.000000  ...  0.446159  0.388680  0.586450\n",
              "bp   0.335427  0.241013  0.395415  ...  0.393478  0.390429  0.441484\n",
              "s1   0.260061  0.035277  0.249777  ...  0.515501  0.325717  0.212022\n",
              "s2   0.219243  0.142637  0.261170  ...  0.318353  0.290600  0.174054\n",
              "s3  -0.075181 -0.379090 -0.366811  ... -0.398577 -0.273697 -0.394789\n",
              "s4   0.203841  0.332115  0.413807  ...  0.617857  0.417212  0.430453\n",
              "s5   0.270777  0.149918  0.446159  ...  1.000000  0.464670  0.565883\n",
              "s6   0.301731  0.208133  0.388680  ...  0.464670  1.000000  0.382483\n",
              "Y    0.187889  0.043062  0.586450  ...  0.565883  0.382483  1.000000\n",
              "\n",
              "[11 rows x 11 columns]"
            ]
          },
          "metadata": {
            "tags": []
          },
          "execution_count": 68
        }
      ]
    },
    {
      "cell_type": "code",
      "metadata": {
        "id": "XeSZZmdcAQXC",
        "colab_type": "code",
        "outputId": "e6390899-640d-4f0c-aff8-8e1b610c70ea",
        "colab": {
          "base_uri": "https://localhost:8080/",
          "height": 292
        }
      },
      "source": [
        "#Graficamos la correlacion\n",
        "plt.matshow(correlacion)"
      ],
      "execution_count": 69,
      "outputs": [
        {
          "output_type": "execute_result",
          "data": {
            "text/plain": [
              "<matplotlib.image.AxesImage at 0x7fdddda31da0>"
            ]
          },
          "metadata": {
            "tags": []
          },
          "execution_count": 69
        },
        {
          "output_type": "display_data",
          "data": {
            "image/png": "[encoded data removed]",
            "text/plain": [
              "<Figure size 288x288 with 1 Axes>"
            ]
          },
          "metadata": {
            "tags": []
          }
        }
      ]
    },
    {
      "cell_type": "markdown",
      "metadata": {
        "id": "7WhULdx0MDUT",
        "colab_type": "text"
      },
      "source": [
        "Con los resultados anteriores podemos concluir:\n",
        "\n",
        "\n",
        "*   Las variables s1 y s2 se encuentran correlacionadas directamente.\n",
        "*   Las variables s3 y s4 se encuentran correlacionadas inversamente.\n",
        "\n",
        "Si bien esto puede indicar que dichas variables no son relevantes para nuestro modelo, procedemos a realizar un test formal para comprobarlo."
      ]
    },
    {
      "cell_type": "markdown",
      "metadata": {
        "id": "HYlF7QoCVQdy",
        "colab_type": "text"
      },
      "source": [
        "####**Seleccion de variables**\n",
        "\n",
        "> Para la selección de variables usamos la función RFECV, la cual se encarga de encontrar el mejor conjunto de estas, usando validación curzada.\n",
        "\n"
      ]
    },
    {
      "cell_type": "code",
      "metadata": {
        "id": "sRQcMYWpNtul",
        "colab_type": "code",
        "outputId": "c0692a85-d03a-4fed-8d97-28ff6926c481",
        "colab": {
          "base_uri": "https://localhost:8080/",
          "height": 34
        }
      },
      "source": [
        "#Escalamos el conjunto de datos para evitar problemas de convergenia\n",
        "conjuntoEscalado = conjuntoDatos\n",
        "columnas = conjuntoDatos.columns.values\n",
        "escalador = StandardScaler().fit(conjuntoEscalado)\n",
        "conjuntoEscalado = escalador.transform(conjuntoEscalado)\n",
        "conjuntoEscalado=pd.DataFrame(conjuntoEscalado,columns=columnas)\n",
        "\n",
        "#Dividimos el conjunto separando la Y\n",
        "Y=conjuntoEscalado['Y']\n",
        "X=conjuntoEscalado.drop(['Y'],1)\n",
        "nombreVariables = X.columns.values\n",
        "\n",
        "#Creamos como estimador un modelo lineal con gradiente descendente\n",
        "estimador = linear_model.SGDRegressor(max_iter=1000, tol=1e-3)\n",
        "\n",
        "#Para la selección de variables usamos la función RFECV la cual usa\n",
        "#Validación vrusada para encontrar el mejor conjunto de variables\n",
        "seleccionVariables = RFECV(estimador, step=1, cv=5)\n",
        "seleccionVariables = seleccionVariables .fit(X, Y)\n",
        "variables = seleccionVariables.get_support(indices = True)\n",
        "variablesSeleccionadas = nombreVariables[variables]\n",
        "print(variablesSeleccionadas)"
      ],
      "execution_count": 70,
      "outputs": [
        {
          "output_type": "stream",
          "text": [
            "['sex' 'bmi' 'bp' 's3' 's5']\n"
          ],
          "name": "stdout"
        }
      ]
    },
    {
      "cell_type": "markdown",
      "metadata": {
        "id": "Zz-eI9DEVuDC",
        "colab_type": "text"
      },
      "source": [
        "Con lo anterior podemos concluir que las variables mas relevantes para nuestro modelo son:\n",
        "\n",
        "\n",
        "1.   sex\n",
        "2.   bmi\n",
        "3.   bp\n",
        "4.   s3\n",
        "5.   s5\n",
        "\n"
      ]
    },
    {
      "cell_type": "markdown",
      "metadata": {
        "id": "2BwTvoREXtQF",
        "colab_type": "text"
      },
      "source": [
        "####Eliminamos las variables poco importantes"
      ]
    },
    {
      "cell_type": "code",
      "metadata": {
        "id": "j1fY3iArWWi4",
        "colab_type": "code",
        "outputId": "3837bb32-3427-40c9-f621-ca4b17531d6a",
        "colab": {
          "base_uri": "https://localhost:8080/",
          "height": 204
        }
      },
      "source": [
        "#Eliminamos las variables que no son relevantes\n",
        "conjuntoDatos.drop(['age','s1','s2','s4','s6'],axis=1,inplace=True)\n",
        "conjuntoDatos.head()"
      ],
      "execution_count": 71,
      "outputs": [
        {
          "output_type": "execute_result",
          "data": {
            "text/html": [
              "<div>\n",
              "<style scoped>\n",
              "    .dataframe tbody tr th:only-of-type {\n",
              "        vertical-align: middle;\n",
              "    }\n",
              "\n",
              "    .dataframe tbody tr th {\n",
              "        vertical-align: top;\n",
              "    }\n",
              "\n",
              "    .dataframe thead th {\n",
              "        text-align: right;\n",
              "    }\n",
              "</style>\n",
              "<table border=\"1\" class=\"dataframe\">\n",
              "  <thead>\n",
              "    <tr style=\"text-align: right;\">\n",
              "      <th></th>\n",
              "      <th>sex</th>\n",
              "      <th>bmi</th>\n",
              "      <th>bp</th>\n",
              "      <th>s3</th>\n",
              "      <th>s5</th>\n",
              "      <th>Y</th>\n",
              "    </tr>\n",
              "  </thead>\n",
              "  <tbody>\n",
              "    <tr>\n",
              "      <th>0</th>\n",
              "      <td>0.050680</td>\n",
              "      <td>0.061696</td>\n",
              "      <td>0.021872</td>\n",
              "      <td>-0.043401</td>\n",
              "      <td>0.019908</td>\n",
              "      <td>151.0</td>\n",
              "    </tr>\n",
              "    <tr>\n",
              "      <th>1</th>\n",
              "      <td>-0.044642</td>\n",
              "      <td>-0.051474</td>\n",
              "      <td>-0.026328</td>\n",
              "      <td>0.074412</td>\n",
              "      <td>-0.068330</td>\n",
              "      <td>75.0</td>\n",
              "    </tr>\n",
              "    <tr>\n",
              "      <th>2</th>\n",
              "      <td>0.050680</td>\n",
              "      <td>0.044451</td>\n",
              "      <td>-0.005671</td>\n",
              "      <td>-0.032356</td>\n",
              "      <td>0.002864</td>\n",
              "      <td>141.0</td>\n",
              "    </tr>\n",
              "    <tr>\n",
              "      <th>3</th>\n",
              "      <td>-0.044642</td>\n",
              "      <td>-0.011595</td>\n",
              "      <td>-0.036656</td>\n",
              "      <td>-0.036038</td>\n",
              "      <td>0.022692</td>\n",
              "      <td>206.0</td>\n",
              "    </tr>\n",
              "    <tr>\n",
              "      <th>4</th>\n",
              "      <td>-0.044642</td>\n",
              "      <td>-0.036385</td>\n",
              "      <td>0.021872</td>\n",
              "      <td>0.008142</td>\n",
              "      <td>-0.031991</td>\n",
              "      <td>135.0</td>\n",
              "    </tr>\n",
              "  </tbody>\n",
              "</table>\n",
              "</div>"
            ],
            "text/plain": [
              "        sex       bmi        bp        s3        s5      Y\n",
              "0  0.050680  0.061696  0.021872 -0.043401  0.019908  151.0\n",
              "1 -0.044642 -0.051474 -0.026328  0.074412 -0.068330   75.0\n",
              "2  0.050680  0.044451 -0.005671 -0.032356  0.002864  141.0\n",
              "3 -0.044642 -0.011595 -0.036656 -0.036038  0.022692  206.0\n",
              "4 -0.044642 -0.036385  0.021872  0.008142 -0.031991  135.0"
            ]
          },
          "metadata": {
            "tags": []
          },
          "execution_count": 71
        }
      ]
    },
    {
      "cell_type": "markdown",
      "metadata": {
        "id": "Xms_H4NGYA-I",
        "colab_type": "text"
      },
      "source": [
        "##3. Selección de una transformación"
      ]
    },
    {
      "cell_type": "markdown",
      "metadata": {
        "id": "Tljt2jxRZavh",
        "colab_type": "text"
      },
      "source": [
        "Creamos el conjunto de transformaciones"
      ]
    },
    {
      "cell_type": "code",
      "metadata": {
        "id": "2HmUTk1mZVzu",
        "colab_type": "code",
        "colab": {}
      },
      "source": [
        "#Dado que el dataframe contiene un alto numero de datos negativos se probará \n",
        "#con transformaciones que admitan este tipo de datos\n",
        "transformaciones = [\n",
        "                   (\"Exponencial\", lambda X: np.exp(X)),\n",
        "                   (\"Cubica\", lambda X: np.power(X,3)),\n",
        "                   (\"Cuadratica\", lambda X: np.power(X,2)),\n",
        "                   (\"Original\", lambda X: X)]"
      ],
      "execution_count": 0,
      "outputs": []
    },
    {
      "cell_type": "markdown",
      "metadata": {
        "id": "n5TlwnKHkPDo",
        "colab_type": "text"
      },
      "source": [
        "Evaluamos cada transformacion y encontramos sus metricas"
      ]
    },
    {
      "cell_type": "code",
      "metadata": {
        "id": "zslMogDagEMT",
        "colab_type": "code",
        "outputId": "9326526e-4ddd-48e8-eb3b-695ea405f552",
        "colab": {
          "base_uri": "https://localhost:8080/",
          "height": 173
        }
      },
      "source": [
        "#Creamos un dataframe para almacenar el conjunto de datos\n",
        "resultados = pd.DataFrame(columns = [\"Transformación\",\"SSE\",\"MAE\",\"MSE\",\"RMSE\"])\n",
        "#Se evalua cada transformacion en el conjunto de datos\n",
        "for nombreTransformacion, transformacion in transformaciones:\n",
        "    #Aplicamos la transformacion\n",
        "    modelo = conjuntoDatos.apply(transformacion)\n",
        "    #Dividimos los datos en entrenamiento y prueba, escogiendo un 20%\n",
        "    #de los datos para pruebas\n",
        "    X_train, X_test, y_train, y_test = train_test_split(modelo.drop(['Y'], axis=1), \n",
        "                                                        modelo['Y'], test_size=0.20)\n",
        "    #Creamos la regresión lineal\n",
        "    lm = LinearRegression()\n",
        "    #Entrenamos la regresión\n",
        "    lm.fit(X_train,y_train)\n",
        "    #Predecimos\n",
        "    predicciones = lm.predict(X_test)\n",
        "    \n",
        "    #Encontramos los errores al cuadrado\n",
        "    errores2 = (y_test - predicciones) ** 2\n",
        "\n",
        "    #Calculamos las metricas y las guardamos\n",
        "    resultados = resultados.append({\n",
        "                    \"Transformación\": nombreTransformacion ,\n",
        "                    \"SSE\": np.sum(errores2),\n",
        "                    \"MAE\": metrics.mean_absolute_error(y_test, predicciones),\n",
        "                    \"MSE\": metrics.mean_squared_error(y_test, predicciones),\n",
        "                    \"RMSE\": np.sqrt(metrics.mean_squared_error(y_test, predicciones)),\n",
        "                },ignore_index=True)\n",
        "\n",
        "#Imprimimos el conjunto de resultados\n",
        "resultados"
      ],
      "execution_count": 73,
      "outputs": [
        {
          "output_type": "execute_result",
          "data": {
            "text/html": [
              "<div>\n",
              "<style scoped>\n",
              "    .dataframe tbody tr th:only-of-type {\n",
              "        vertical-align: middle;\n",
              "    }\n",
              "\n",
              "    .dataframe tbody tr th {\n",
              "        vertical-align: top;\n",
              "    }\n",
              "\n",
              "    .dataframe thead th {\n",
              "        text-align: right;\n",
              "    }\n",
              "</style>\n",
              "<table border=\"1\" class=\"dataframe\">\n",
              "  <thead>\n",
              "    <tr style=\"text-align: right;\">\n",
              "      <th></th>\n",
              "      <th>Transformación</th>\n",
              "      <th>SSE</th>\n",
              "      <th>MAE</th>\n",
              "      <th>MSE</th>\n",
              "      <th>RMSE</th>\n",
              "    </tr>\n",
              "  </thead>\n",
              "  <tbody>\n",
              "    <tr>\n",
              "      <th>0</th>\n",
              "      <td>Exponencial</td>\n",
              "      <td>3.400819e+300</td>\n",
              "      <td>2.080597e+148</td>\n",
              "      <td>3.821145e+298</td>\n",
              "      <td>1.954775e+149</td>\n",
              "    </tr>\n",
              "    <tr>\n",
              "      <th>1</th>\n",
              "      <td>Cubica</td>\n",
              "      <td>3.859553e+15</td>\n",
              "      <td>4.797744e+06</td>\n",
              "      <td>4.336577e+13</td>\n",
              "      <td>6.585269e+06</td>\n",
              "    </tr>\n",
              "    <tr>\n",
              "      <th>2</th>\n",
              "      <td>Cuadratica</td>\n",
              "      <td>6.095782e+10</td>\n",
              "      <td>2.057066e+04</td>\n",
              "      <td>6.849193e+08</td>\n",
              "      <td>2.617096e+04</td>\n",
              "    </tr>\n",
              "    <tr>\n",
              "      <th>3</th>\n",
              "      <td>Original</td>\n",
              "      <td>3.422243e+05</td>\n",
              "      <td>5.180089e+01</td>\n",
              "      <td>3.845217e+03</td>\n",
              "      <td>6.200982e+01</td>\n",
              "    </tr>\n",
              "  </tbody>\n",
              "</table>\n",
              "</div>"
            ],
            "text/plain": [
              "  Transformación            SSE            MAE            MSE           RMSE\n",
              "0    Exponencial  3.400819e+300  2.080597e+148  3.821145e+298  1.954775e+149\n",
              "1         Cubica   3.859553e+15   4.797744e+06   4.336577e+13   6.585269e+06\n",
              "2     Cuadratica   6.095782e+10   2.057066e+04   6.849193e+08   2.617096e+04\n",
              "3       Original   3.422243e+05   5.180089e+01   3.845217e+03   6.200982e+01"
            ]
          },
          "metadata": {
            "tags": []
          },
          "execution_count": 73
        }
      ]
    },
    {
      "cell_type": "markdown",
      "metadata": {
        "id": "zg30qoOSmH3E",
        "colab_type": "text"
      },
      "source": [
        "Escogemos la transformacion con errores mas pequeños"
      ]
    },
    {
      "cell_type": "code",
      "metadata": {
        "id": "b-UCgDz5lmsl",
        "colab_type": "code",
        "outputId": "882c9888-b562-4737-82ba-8230e014e637",
        "colab": {
          "base_uri": "https://localhost:8080/",
          "height": 80
        }
      },
      "source": [
        "mejorTransformacion = resultados[resultados['MSE']==min(resultados['MSE'])]\n",
        "mejorTransformacion"
      ],
      "execution_count": 74,
      "outputs": [
        {
          "output_type": "execute_result",
          "data": {
            "text/html": [
              "<div>\n",
              "<style scoped>\n",
              "    .dataframe tbody tr th:only-of-type {\n",
              "        vertical-align: middle;\n",
              "    }\n",
              "\n",
              "    .dataframe tbody tr th {\n",
              "        vertical-align: top;\n",
              "    }\n",
              "\n",
              "    .dataframe thead th {\n",
              "        text-align: right;\n",
              "    }\n",
              "</style>\n",
              "<table border=\"1\" class=\"dataframe\">\n",
              "  <thead>\n",
              "    <tr style=\"text-align: right;\">\n",
              "      <th></th>\n",
              "      <th>Transformación</th>\n",
              "      <th>SSE</th>\n",
              "      <th>MAE</th>\n",
              "      <th>MSE</th>\n",
              "      <th>RMSE</th>\n",
              "    </tr>\n",
              "  </thead>\n",
              "  <tbody>\n",
              "    <tr>\n",
              "      <th>3</th>\n",
              "      <td>Original</td>\n",
              "      <td>342224.337729</td>\n",
              "      <td>51.800887</td>\n",
              "      <td>3845.217278</td>\n",
              "      <td>62.009816</td>\n",
              "    </tr>\n",
              "  </tbody>\n",
              "</table>\n",
              "</div>"
            ],
            "text/plain": [
              "  Transformación            SSE        MAE          MSE       RMSE\n",
              "3       Original  342224.337729  51.800887  3845.217278  62.009816"
            ]
          },
          "metadata": {
            "tags": []
          },
          "execution_count": 74
        }
      ]
    },
    {
      "cell_type": "markdown",
      "metadata": {
        "id": "M9auwBsBmRTF",
        "colab_type": "text"
      },
      "source": [
        "De lo anterior podemos observar que la mejor transformación es 'Original', la cual corresponde a los datos iniciales sin alterar, por lo tanto concluimos que no es necesario aplicar ninguna transformación."
      ]
    },
    {
      "cell_type": "markdown",
      "metadata": {
        "id": "UpXKkK5mvgb4",
        "colab_type": "text"
      },
      "source": [
        "####4. Modelo de regresión lineal"
      ]
    },
    {
      "cell_type": "code",
      "metadata": {
        "id": "Xc4ztISWvsb8",
        "colab_type": "code",
        "outputId": "4cc6d634-8a37-4414-854f-de833a12b9a8",
        "colab": {
          "base_uri": "https://localhost:8080/",
          "height": 298
        }
      },
      "source": [
        "#Dividimos los datos en entrenamiento y prueba, escogiendo un 30%\n",
        "#de los datos para pruebas\n",
        "X_train, X_test, y_train, y_test = train_test_split(conjuntoDatos.drop(['Y'], axis=1), \n",
        "                                                        conjuntoDatos['Y'], test_size=0.30)\n",
        "\n",
        "#Creamos la regresión lineal\n",
        "lm = LinearRegression()\n",
        "\n",
        "#Entrenamos la regresión\n",
        "lm.fit(X_train,y_train)\n",
        "\n",
        "#Predecimos\n",
        "predicciones = lm.predict(X_test)\n",
        "    \n",
        "#Encontramos los errores al cuadrado\n",
        "errores2 = (y_test - predicciones) ** 2\n",
        "\n",
        "plt.scatter(predicciones, y_test)\n",
        "plt.plot(y_test, y_test, color='black')\n",
        "plt.title('Regresion lineal')\n",
        "\n",
        "print('ECM = '+ str(metrics.mean_squared_error(y_test, predicciones)))"
      ],
      "execution_count": 75,
      "outputs": [
        {
          "output_type": "stream",
          "text": [
            "ECM = 2930.1839942677084\n"
          ],
          "name": "stdout"
        },
        {
          "output_type": "display_data",
          "data": {
            "image/png": "[encoded data removed]",
            "text/plain": [
              "<Figure size 432x288 with 1 Axes>"
            ]
          },
          "metadata": {
            "tags": []
          }
        }
      ]
    },
    {
      "cell_type": "markdown",
      "metadata": {
        "id": "oN7FVx5mL8Fl",
        "colab_type": "text"
      },
      "source": [
        "**Robustez del modelo de regresión lineal con validación cruzada:**"
      ]
    },
    {
      "cell_type": "code",
      "metadata": {
        "id": "fDnRu_DgK3_9",
        "colab_type": "code",
        "colab": {
          "base_uri": "https://localhost:8080/",
          "height": 34
        },
        "outputId": "8c5ce7dc-5e38-4415-af88-0c4dbce6f71b"
      },
      "source": [
        "resultadosValidacion = cross_val_score(lm, X_train, y_train, cv=10)\n",
        "print(\"Resultado: %0.2f (+/- %0.2f)\" % (resultadosValidacion.mean(), resultadosValidacion.std() * 2))"
      ],
      "execution_count": 76,
      "outputs": [
        {
          "output_type": "stream",
          "text": [
            "Resultado: 0.47 (+/- 0.19)\n"
          ],
          "name": "stdout"
        }
      ]
    },
    {
      "cell_type": "markdown",
      "metadata": {
        "id": "bT7qgalejiMh",
        "colab_type": "text"
      },
      "source": [
        "##5. Modelo de redes neuronales"
      ]
    },
    {
      "cell_type": "markdown",
      "metadata": {
        "id": "oangk3FYkFEc",
        "colab_type": "text"
      },
      "source": [
        "Escalamos los datos para ser usados en la red neuronal"
      ]
    },
    {
      "cell_type": "code",
      "metadata": {
        "colab_type": "code",
        "id": "rGWtP0tNdOOl",
        "colab": {}
      },
      "source": [
        "#Creamos el escalador\n",
        "escalador = MinMaxScaler()\n",
        "#Obtenemos el nombre de las columnas del conjunto de datos original\n",
        "columnas=conjuntoDatos.columns\n",
        "\n",
        "#Creamos un conjunto auxiliar donde escalaremos los datos del dataframe original\n",
        "conjuntoEscalado=pd.DataFrame(escalador.fit_transform(conjuntoDatos),columns=columnas)\n",
        "conjuntoEscalado.head(3)\n",
        "\n",
        "#Sepparamos las variables independientes de la variable dependiente\n",
        "X=conjuntoEscalado.drop(['Y'],1)\n",
        "Y=conjuntoEscalado['Y']"
      ],
      "execution_count": 0,
      "outputs": []
    },
    {
      "cell_type": "code",
      "metadata": {
        "id": "KWrYKdZOLTG0",
        "colab_type": "code",
        "outputId": "f44f90c4-4663-4931-c4b5-3d31712485de",
        "colab": {
          "base_uri": "https://localhost:8080/",
          "height": 34
        }
      },
      "source": [
        "#Creamos el de redes neuronales con un valor inicial de 5 neuronas\n",
        "m = MLPRegressor(hidden_layer_sizes=(8, ),\n",
        "                activation = 'relu',\n",
        "                learning_rate = 'adaptive',\n",
        "                momentum = 0.9,\n",
        "                solver= 'sgd',\n",
        "                learning_rate_init = 0.01,\n",
        "                max_iter = 1000)\n",
        "\n",
        "#Separamos los datos dejando un 70% para entrenamiento y un 30% para pruebas\n",
        "X_train, X_test, y_train, y_test = train_test_split(X, Y, test_size=0.3)\n",
        "\n",
        "#Entrenamos la red\n",
        "m.fit(X_train,  y_train.values.ravel())\n",
        "\n",
        "#Predecimos\n",
        "prediccion=m.predict(X_test)\n",
        "\n",
        "#Creamos otros dos conjuntos de datos, uno con las predicciones y otro con el Y\n",
        "#de pruebas para poder comparar el error\n",
        "conjuntoPredicho=pd.DataFrame(X_test,columns=columnas[0:-1])\n",
        "conjuntoNormal=conjuntoPredicho[['sex','bmi','bp','s3','s5']]\n",
        "conjuntoPredicho[columnas[-1]]=prediccion\n",
        "conjuntoNormal[columnas[-1]]=y_test\n",
        "\n",
        "#Invertimos el escalado del conjunto de datos\n",
        "conjuntoPredicho=pd.DataFrame(escalador.inverse_transform(conjuntoPredicho),columns=columnas)\n",
        "conjuntoNormal=pd.DataFrame(escalador.inverse_transform(conjuntoNormal),columns=columnas)\n",
        "\n",
        "#Mostramos el error cuadratico medio\n",
        "print('ECM = '+ str(metrics.mean_squared_error(conjuntoNormal['Y'],conjuntoPredicho['Y'])))\n",
        "\n"
      ],
      "execution_count": 78,
      "outputs": [
        {
          "output_type": "stream",
          "text": [
            "ECM = 3377.84577301346\n"
          ],
          "name": "stdout"
        }
      ]
    },
    {
      "cell_type": "markdown",
      "metadata": {
        "id": "0CFa6yR0lxvQ",
        "colab_type": "text"
      },
      "source": [
        "Notamos el que resultado del error con redes neuronales no mejora respecto al resultado de regresión lineal, por lo cual procedemos a buscar el número optimo de neuronas."
      ]
    },
    {
      "cell_type": "markdown",
      "metadata": {
        "id": "xYooQb82BOw5",
        "colab_type": "text"
      },
      "source": [
        "Creamos la red neuronal e iteramos para encontrar el numero optimo de neuronas que hagan que nuestro modelo tenga el error cuadratico medio mas pequeño."
      ]
    },
    {
      "cell_type": "code",
      "metadata": {
        "id": "217arllSmFat",
        "colab_type": "code",
        "colab": {}
      },
      "source": [
        "#Creamos el conjunto de datos datos para guardar las neuronas y el error cuadratico\n",
        "#Medio asosciado a la red neuronal con dicho numero de neuronas\n",
        "neuronas=pd.DataFrame(columns=['Neuronas','ECM'])\n",
        "\n",
        "#Iteramos sobre el numero de neuronas\n",
        "for numeroNeuronas in range(1,50):\n",
        "  m = MLPRegressor(hidden_layer_sizes=(numeroNeuronas, ),\n",
        "                  activation = 'relu',\n",
        "                  learning_rate = 'adaptive',\n",
        "                  momentum = 0.9,\n",
        "                  solver= 'sgd',\n",
        "                  learning_rate_init = 0.01,\n",
        "                  max_iter = 1000)\n",
        "\n",
        "  #Separamos los datos dejando un 70% para entrenamiento y un 30% para pruebas\n",
        "  X_train, X_test, y_train, y_test = train_test_split(X, Y, test_size=0.3)\n",
        "\n",
        "  #Entrenamos la red\n",
        "  m.fit(X_train,  y_train.values.ravel())\n",
        "\n",
        "  #Predecimos\n",
        "  prediccion=m.predict(X_test)\n",
        "\n",
        "  #Creamos otros dos conjuntos de datos, uno con las predicciones y otro con el Y\n",
        "  #de pruebas para poder comparar el error\n",
        "  conjuntoPredicho=pd.DataFrame(X_test,columns=columnas[0:-1])\n",
        "  conjuntoNormal=conjuntoPredicho[['sex','bmi','bp','s3','s5']]\n",
        "  conjuntoPredicho[columnas[-1]]=prediccion\n",
        "  conjuntoNormal[columnas[-1]]=y_test\n",
        "\n",
        "  #Invertimos el escalado del conjunto de datos\n",
        "  conjuntoPredicho=pd.DataFrame(escalador.inverse_transform(conjuntoPredicho),columns=columnas)\n",
        "  conjuntoNormal=pd.DataFrame(escalador.inverse_transform(conjuntoNormal),columns=columnas)\n",
        "\n",
        "  #Guardamos la información del numero de neuronas y el ECM\n",
        "  ECM=metrics.mean_squared_error(conjuntoNormal['Y'],conjuntoPredicho['Y'])\n",
        "  neuronas = neuronas.append({\n",
        "                    \"Neuronas\": numeroNeuronas ,\n",
        "                    \"ECM\": ECM\n",
        "                },ignore_index=True)"
      ],
      "execution_count": 0,
      "outputs": []
    },
    {
      "cell_type": "markdown",
      "metadata": {
        "id": "60Tpf2KgCK6f",
        "colab_type": "text"
      },
      "source": [
        "A continuación buscamos el conjunto de neuronas que nos den el minimo error cuadratico medio."
      ]
    },
    {
      "cell_type": "code",
      "metadata": {
        "id": "0Vp1mddnn5nf",
        "colab_type": "code",
        "outputId": "1b2f9ad6-fccf-4ec3-8c81-6cc8b3c30328",
        "colab": {
          "base_uri": "https://localhost:8080/",
          "height": 80
        }
      },
      "source": [
        "neuronasOptimas = neuronas[neuronas['ECM']==min(neuronas['ECM'])]\n",
        "neuronasOptimas"
      ],
      "execution_count": 80,
      "outputs": [
        {
          "output_type": "execute_result",
          "data": {
            "text/html": [
              "<div>\n",
              "<style scoped>\n",
              "    .dataframe tbody tr th:only-of-type {\n",
              "        vertical-align: middle;\n",
              "    }\n",
              "\n",
              "    .dataframe tbody tr th {\n",
              "        vertical-align: top;\n",
              "    }\n",
              "\n",
              "    .dataframe thead th {\n",
              "        text-align: right;\n",
              "    }\n",
              "</style>\n",
              "<table border=\"1\" class=\"dataframe\">\n",
              "  <thead>\n",
              "    <tr style=\"text-align: right;\">\n",
              "      <th></th>\n",
              "      <th>Neuronas</th>\n",
              "      <th>ECM</th>\n",
              "    </tr>\n",
              "  </thead>\n",
              "  <tbody>\n",
              "    <tr>\n",
              "      <th>38</th>\n",
              "      <td>39.0</td>\n",
              "      <td>2474.779393</td>\n",
              "    </tr>\n",
              "  </tbody>\n",
              "</table>\n",
              "</div>"
            ],
            "text/plain": [
              "    Neuronas          ECM\n",
              "38      39.0  2474.779393"
            ]
          },
          "metadata": {
            "tags": []
          },
          "execution_count": 80
        }
      ]
    },
    {
      "cell_type": "markdown",
      "metadata": {
        "id": "4eQA4OrMCeja",
        "colab_type": "text"
      },
      "source": [
        "Posteriormente procedemos a añadir otra capa y vemos si el desempeño mejora, con la finalidad de observar si el numero de capas ocultas afecta notoriamente."
      ]
    },
    {
      "cell_type": "code",
      "metadata": {
        "id": "bD2yG57NtWid",
        "colab_type": "code",
        "colab": {}
      },
      "source": [
        "neuronas2Capas=pd.DataFrame(columns=['Neuronas capa 1','Neuronas capa 2','ECM'])\n",
        "\n",
        "for numeroNeuronasC1 in range(1,50):\n",
        "  for numeroNeuronasC2 in range(1,50):\n",
        "    m = MLPRegressor(hidden_layer_sizes=(numeroNeuronasC1,numeroNeuronasC2, ),\n",
        "                    activation = 'relu',\n",
        "                    learning_rate = 'adaptive',\n",
        "                    momentum = 0.9,\n",
        "                    solver= 'sgd',\n",
        "                    learning_rate_init = 0.01,\n",
        "                    max_iter = 1000)\n",
        "\n",
        "    #Separamos los datos dejando un 70% para entrenamiento y un 30% para pruebas\n",
        "    X_train, X_test, y_train, y_test = train_test_split(X, Y, test_size=0.3)\n",
        "\n",
        "    #Entrenamos la red\n",
        "    m.fit(X_train,  y_train.values.ravel())\n",
        "\n",
        "    #Predecimos\n",
        "    prediccion=m.predict(X_test)\n",
        "\n",
        "    #Creamos otros dos conjuntos de datos, uno con las predicciones y otro con el Y\n",
        "    #de pruebas para poder comparar el error\n",
        "    conjuntoPredicho=pd.DataFrame(X_test,columns=columnas[0:-1])\n",
        "    conjuntoNormal=conjuntoPredicho[['sex','bmi','bp','s3','s5']]\n",
        "    conjuntoPredicho[columnas[-1]]=prediccion\n",
        "    conjuntoNormal[columnas[-1]]=y_test\n",
        "\n",
        "    #Invertimos el escalado del conjunto de datos\n",
        "    conjuntoPredicho=pd.DataFrame(escalador.inverse_transform(conjuntoPredicho),columns=columnas)\n",
        "    conjuntoNormal=pd.DataFrame(escalador.inverse_transform(conjuntoNormal),columns=columnas)\n",
        "\n",
        "    #Guardamos la información del numero de neuronas y el ECM\n",
        "    ECM=metrics.mean_squared_error(conjuntoNormal['Y'],conjuntoPredicho['Y'])\n",
        "    neuronas2Capas = neuronas2Capas.append({\n",
        "                      \"Neuronas capa 1\": numeroNeuronasC1 ,\n",
        "                      \"Neuronas capa 2\": numeroNeuronasC2 ,\n",
        "                      \"ECM\": ECM\n",
        "                  },ignore_index=True)\n",
        "  "
      ],
      "execution_count": 0,
      "outputs": []
    },
    {
      "cell_type": "markdown",
      "metadata": {
        "id": "fqOveIjnIZSh",
        "colab_type": "text"
      },
      "source": [
        "A continuación buscamos el conjunto de neuronas que nos den el minimo error cuadratico medio."
      ]
    },
    {
      "cell_type": "code",
      "metadata": {
        "id": "TqIk0T3exyXR",
        "colab_type": "code",
        "colab": {
          "base_uri": "https://localhost:8080/",
          "height": 80
        },
        "outputId": "9deb131c-6879-43b1-b14c-f591398a673a"
      },
      "source": [
        "neuronasOptimas = neuronas2Capas[neuronas2Capas['ECM']==min(neuronas2Capas['ECM'])]\n",
        "neuronasOptimas"
      ],
      "execution_count": 82,
      "outputs": [
        {
          "output_type": "execute_result",
          "data": {
            "text/html": [
              "<div>\n",
              "<style scoped>\n",
              "    .dataframe tbody tr th:only-of-type {\n",
              "        vertical-align: middle;\n",
              "    }\n",
              "\n",
              "    .dataframe tbody tr th {\n",
              "        vertical-align: top;\n",
              "    }\n",
              "\n",
              "    .dataframe thead th {\n",
              "        text-align: right;\n",
              "    }\n",
              "</style>\n",
              "<table border=\"1\" class=\"dataframe\">\n",
              "  <thead>\n",
              "    <tr style=\"text-align: right;\">\n",
              "      <th></th>\n",
              "      <th>Neuronas capa 1</th>\n",
              "      <th>Neuronas capa 2</th>\n",
              "      <th>ECM</th>\n",
              "    </tr>\n",
              "  </thead>\n",
              "  <tbody>\n",
              "    <tr>\n",
              "      <th>2169</th>\n",
              "      <td>45.0</td>\n",
              "      <td>14.0</td>\n",
              "      <td>2261.355157</td>\n",
              "    </tr>\n",
              "  </tbody>\n",
              "</table>\n",
              "</div>"
            ],
            "text/plain": [
              "      Neuronas capa 1  Neuronas capa 2          ECM\n",
              "2169             45.0             14.0  2261.355157"
            ]
          },
          "metadata": {
            "tags": []
          },
          "execution_count": 82
        }
      ]
    },
    {
      "cell_type": "markdown",
      "metadata": {
        "id": "2B9arelAIcSi",
        "colab_type": "text"
      },
      "source": [
        "Como podemos observar el numero de capas ocultas afecta positivamente el desempeño del modelo de redes neuronales, lo cual se refleja en una disminución notoria del ECM."
      ]
    },
    {
      "cell_type": "markdown",
      "metadata": {
        "id": "pISBfhbwNk05",
        "colab_type": "text"
      },
      "source": [
        "**Robustez del modelo de redes neuronales con validación cruzada:**"
      ]
    },
    {
      "cell_type": "code",
      "metadata": {
        "id": "-5-R1HwpM6bD",
        "colab_type": "code",
        "colab": {
          "base_uri": "https://localhost:8080/",
          "height": 34
        },
        "outputId": "f727c459-6431-4f62-f320-0f46aa646ee4"
      },
      "source": [
        "resultadosValidacionRn = cross_val_score(m, X_train, y_train, cv=10)\n",
        "print(\"Resultado: %0.2f (+/- %0.2f)\" % (resultadosValidacionRn.mean(), resultadosValidacionRn.std() * 2))"
      ],
      "execution_count": 83,
      "outputs": [
        {
          "output_type": "stream",
          "text": [
            "Resultado: 0.44 (+/- 0.22)\n"
          ],
          "name": "stdout"
        }
      ]
    },
    {
      "cell_type": "markdown",
      "metadata": {
        "id": "kcI3_KwNF3z1",
        "colab_type": "text"
      },
      "source": [
        "##Conclusiones"
      ]
    },
    {
      "cell_type": "markdown",
      "metadata": {
        "id": "_oK0JZHcFuva",
        "colab_type": "text"
      },
      "source": [
        "De los resultados anteriores podemos concluir que:\n",
        "\n",
        "\n",
        "1.   Aunque los resultados de la regresión lineal no son los mas optimos en cuanto al ECM esta nos permitió crear un buen modelo para la red neuronal.\n",
        "\n",
        "2.   El modelo de redes neuronales con una capa tiene un mejor desempeño que la regresión lineal, pero es necesario buscar el numero de neuronas optimas para que esto sea notorio.\n",
        "\n",
        "3.   La red neuronal con dos capas tuvo el mejor desempeño, disminuyendo notoriamente el ECM, lo cual nos puede indicar que el numero de capas ocultas tiene una influencia positiva en el desempeño, pero también debemos tener en cuenta que debemos lidiar con el coste computacional que supone aumentar su numero.\n",
        "\n",
        "4.   Respecto a la robustez del modelo cabe destacar que segun la validación cruzada tanto el modelo de regresión lineal como el modelo de redes neuronales son similares en este aspecto, dando resultados bastante altos, lo cual junto con el ECM nos indica que aún los modelos presentan una baja precisión, por lo cual debería ser refinados en cuanto a los demás parametros.\n",
        "\n",
        "5.   Para finalizar se concluye que si bien el modelo de Redes neuronales con dos capas no tiene un desempeño supremamente bueno, con este ejercicio pudimos comprobar que se comporta mejor que los demás."
      ]
    }
  ]
}